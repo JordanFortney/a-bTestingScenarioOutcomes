{
 "cells": [
  {
   "cell_type": "markdown",
   "metadata": {},
   "source": [
    "# Evaluating Scenario Outcomes With A/B Testing"
   ]
  },
  {
   "cell_type": "markdown",
   "metadata": {},
   "source": [
    "### Introduction\n",
    "A/B testing is a very common framework for comparing the outcomes of two scenarios. These could be two brand new scenarios or a new idea that you want to test against your current strategy. A/B testing will not outright tell you which scenario is better but it will tell you whether there is a statistical difference between the two. You can then consult other performance metrics to judge their effectiveness. \n",
    "\n",
    "This project will investigate two sets of data with different inputs and goals. The first is data from a mobile game called Cookie Cats that looks at retention rate and the second is data from an auction platform that looks at the participation rate of a questionnaire."
   ]
  },
  {
   "cell_type": "markdown",
   "metadata": {},
   "source": [
    "### Case Study 1: Cookie Cats"
   ]
  },
  {
   "cell_type": "markdown",
   "metadata": {},
   "source": [
    "Cookie Cats is a classic mobile puzzle game where you must connect three matching icons to get points and progress through the game's puzzles. As puzzles are completed users will level up their accounts and encounter more difficult puzzles. At certain levels there are content gates that require the user to wait a certain amount of time or make an in-game purchase to continue solving puzzles and level up further. \n",
    "\n",
    "The two scenarios we are analyzing for this case study are: the first content gate being at level 30 or at level 40. The three metrics we will be comparing between the two gate points are: the total number of rounds that the user played and whether they have returned to the game one or seven days after the original installation."
   ]
  },
  {
   "cell_type": "code",
   "execution_count": 1,
   "metadata": {},
   "outputs": [],
   "source": [
    "#Import important packages\n",
    "import pandas as pd\n",
    "import scipy.stats as stats\n",
    "import matplotlib.pyplot as plt"
   ]
  },
  {
   "cell_type": "markdown",
   "metadata": {},
   "source": [
    "Once the data was loaded from .csv format it was inspected to determine if cleaning up needs to be done prior to the analysis. There are 90189 unique users and 5 categories of data for each user. The categories (columns) that are included are:\n",
    "* userid: The unique user ID number\n",
    "* version: Which level the content gate was placed at  \n",
    "    * gate_30: The users who were content gated at level 30\n",
    "    * gate_40: The users who were content gated at level 40\n",
    "* sum_gamerounds: The total number of rounds the user has played.\n",
    "* retention_1: Whether or not the user returned to the game 1 day after installation. \n",
    "* retention_7: Whether or not the user returned to the game 7 days after installation. "
   ]
  },
  {
   "cell_type": "code",
   "execution_count": 2,
   "metadata": {},
   "outputs": [
    {
     "data": {
      "text/html": [
       "<div>\n",
       "<style scoped>\n",
       "    .dataframe tbody tr th:only-of-type {\n",
       "        vertical-align: middle;\n",
       "    }\n",
       "\n",
       "    .dataframe tbody tr th {\n",
       "        vertical-align: top;\n",
       "    }\n",
       "\n",
       "    .dataframe thead th {\n",
       "        text-align: right;\n",
       "    }\n",
       "</style>\n",
       "<table border=\"1\" class=\"dataframe\">\n",
       "  <thead>\n",
       "    <tr style=\"text-align: right;\">\n",
       "      <th></th>\n",
       "      <th>userid</th>\n",
       "      <th>version</th>\n",
       "      <th>sum_gamerounds</th>\n",
       "      <th>retention_1</th>\n",
       "      <th>retention_7</th>\n",
       "    </tr>\n",
       "  </thead>\n",
       "  <tbody>\n",
       "    <tr>\n",
       "      <th>0</th>\n",
       "      <td>116</td>\n",
       "      <td>gate_30</td>\n",
       "      <td>3</td>\n",
       "      <td>False</td>\n",
       "      <td>False</td>\n",
       "    </tr>\n",
       "    <tr>\n",
       "      <th>1</th>\n",
       "      <td>337</td>\n",
       "      <td>gate_30</td>\n",
       "      <td>38</td>\n",
       "      <td>True</td>\n",
       "      <td>False</td>\n",
       "    </tr>\n",
       "    <tr>\n",
       "      <th>2</th>\n",
       "      <td>377</td>\n",
       "      <td>gate_40</td>\n",
       "      <td>165</td>\n",
       "      <td>True</td>\n",
       "      <td>False</td>\n",
       "    </tr>\n",
       "    <tr>\n",
       "      <th>3</th>\n",
       "      <td>483</td>\n",
       "      <td>gate_40</td>\n",
       "      <td>1</td>\n",
       "      <td>False</td>\n",
       "      <td>False</td>\n",
       "    </tr>\n",
       "    <tr>\n",
       "      <th>4</th>\n",
       "      <td>488</td>\n",
       "      <td>gate_40</td>\n",
       "      <td>179</td>\n",
       "      <td>True</td>\n",
       "      <td>True</td>\n",
       "    </tr>\n",
       "    <tr>\n",
       "      <th>...</th>\n",
       "      <td>...</td>\n",
       "      <td>...</td>\n",
       "      <td>...</td>\n",
       "      <td>...</td>\n",
       "      <td>...</td>\n",
       "    </tr>\n",
       "    <tr>\n",
       "      <th>90184</th>\n",
       "      <td>9999441</td>\n",
       "      <td>gate_40</td>\n",
       "      <td>97</td>\n",
       "      <td>True</td>\n",
       "      <td>False</td>\n",
       "    </tr>\n",
       "    <tr>\n",
       "      <th>90185</th>\n",
       "      <td>9999479</td>\n",
       "      <td>gate_40</td>\n",
       "      <td>30</td>\n",
       "      <td>False</td>\n",
       "      <td>False</td>\n",
       "    </tr>\n",
       "    <tr>\n",
       "      <th>90186</th>\n",
       "      <td>9999710</td>\n",
       "      <td>gate_30</td>\n",
       "      <td>28</td>\n",
       "      <td>True</td>\n",
       "      <td>False</td>\n",
       "    </tr>\n",
       "    <tr>\n",
       "      <th>90187</th>\n",
       "      <td>9999768</td>\n",
       "      <td>gate_40</td>\n",
       "      <td>51</td>\n",
       "      <td>True</td>\n",
       "      <td>False</td>\n",
       "    </tr>\n",
       "    <tr>\n",
       "      <th>90188</th>\n",
       "      <td>9999861</td>\n",
       "      <td>gate_40</td>\n",
       "      <td>16</td>\n",
       "      <td>False</td>\n",
       "      <td>False</td>\n",
       "    </tr>\n",
       "  </tbody>\n",
       "</table>\n",
       "<p>90189 rows × 5 columns</p>\n",
       "</div>"
      ],
      "text/plain": [
       "        userid  version  sum_gamerounds  retention_1  retention_7\n",
       "0          116  gate_30               3        False        False\n",
       "1          337  gate_30              38         True        False\n",
       "2          377  gate_40             165         True        False\n",
       "3          483  gate_40               1        False        False\n",
       "4          488  gate_40             179         True         True\n",
       "...        ...      ...             ...          ...          ...\n",
       "90184  9999441  gate_40              97         True        False\n",
       "90185  9999479  gate_40              30        False        False\n",
       "90186  9999710  gate_30              28         True        False\n",
       "90187  9999768  gate_40              51         True        False\n",
       "90188  9999861  gate_40              16        False        False\n",
       "\n",
       "[90189 rows x 5 columns]"
      ]
     },
     "execution_count": 2,
     "metadata": {},
     "output_type": "execute_result"
    }
   ],
   "source": [
    "# Load data from the .csv into a pandas data frame.\n",
    "ccats = pd.read_csv('cookie_cats.csv')\n",
    "ccats"
   ]
  },
  {
   "cell_type": "markdown",
   "metadata": {},
   "source": [
    "The data was checked for null or missing values to ensure that no errors would occur later on and to check for completeness of the source data. "
   ]
  },
  {
   "cell_type": "code",
   "execution_count": 3,
   "metadata": {},
   "outputs": [
    {
     "data": {
      "text/plain": [
       "userid            0\n",
       "version           0\n",
       "sum_gamerounds    0\n",
       "retention_1       0\n",
       "retention_7       0\n",
       "dtype: int64"
      ]
     },
     "execution_count": 3,
     "metadata": {},
     "output_type": "execute_result"
    }
   ],
   "source": [
    "#Check data set for missing or null values\n",
    "ccats.isna().sum()"
   ]
  },
  {
   "cell_type": "markdown",
   "metadata": {},
   "source": [
    "A visual inspection of the retention columns was done for two purposes. The first was to ensure that there was not a class imbalance between the two version types. The second was to see if there were any obvious differences between the 4 classes of users."
   ]
  },
  {
   "cell_type": "code",
   "execution_count": 46,
   "metadata": {},
   "outputs": [],
   "source": [
    "# Creating variables for number of users in each of the 4 categories\n",
    "\n",
    "# Number of users in version: gate_30 who returned after 1 day\n",
    "thirtyOneT = len(ccats.loc[(ccats['version'] == 'gate_30') & (ccats['retention_1'] == True)])\n",
    "# Number of users in version: gate_40 who returned after 1 day\n",
    "fortyOneT = len(ccats.loc[(ccats['version'] == 'gate_40') & (ccats['retention_1'] == True)])\n",
    "# Number of users in version: gate_30 who did not return after 1 day\n",
    "thirtyOneF = len(ccats.loc[(ccats['version'] == 'gate_30') & (ccats['retention_1'] == False)])\n",
    "# Number of users in version: gate_40 who did not return after 1 day\n",
    "fortyOneF = len(ccats.loc[(ccats['version'] == 'gate_40') & (ccats['retention_1'] == False)])\n",
    "\n",
    "# Number of users in version: gate_30 who returned after 7 days\n",
    "thirtySevenT = len(ccats.loc[(ccats['version'] == 'gate_30') & (ccats['retention_7'] == True)])\n",
    "# Number of users in version: gate_40 who returned after 7 days\n",
    "fortySevenT = len(ccats.loc[(ccats['version'] == 'gate_40') & (ccats['retention_7'] == True)])\n",
    "# Number of users in version: gate_30 who did not return after 7 days\n",
    "thirtySevenF = len(ccats.loc[(ccats['version'] == 'gate_30') & (ccats['retention_7'] == False)])\n",
    "# Number of users in version: gate_40 who did not return after 7 days\n",
    "fortySevenF = len(ccats.loc[(ccats['version'] == 'gate_40') & (ccats['retention_7'] == False)])"
   ]
  },
  {
   "cell_type": "code",
   "execution_count": 46,
   "metadata": {},
   "outputs": [
    {
     "data": {
      "image/png": "[encoded data removed]",
      "text/plain": [
       "<Figure size 864x360 with 1 Axes>"
      ]
     },
     "metadata": {
      "needs_background": "light"
     },
     "output_type": "display_data"
    }
   ],
   "source": [
    "# Setting up the format variables for the bar graph\n",
    "# Label names\n",
    "labels = ['Gate 30 1 Day', 'Gate 40 1 Day', 'Gate 30 7 Day', 'Gate 40 7 Day']\n",
    "# Array of returned user totals\n",
    "trueGates = [thirtyOneT, thirtyOneF, thirtySevenT, thirtySevenF]\n",
    "# Array of not returned iser totals\n",
    "falseGates = [fortyOneT, fortyOneF, fortySevenT, fortySevenF]\n",
    "# Bar width\n",
    "width = 0.35\n",
    "# Number of labels\n",
    "labelLen = np.arange(len(labels))\n",
    "\n",
    "# Creating the side-by-side bar graph\n",
    "fig, ax = plt.subplots(figsize = (12,5))\n",
    "gate1 = ax.bar(labelLen - width/2, trueGates, width, label = 'Returned')\n",
    "gate2 = ax.bar(labelLen + width/2, falseGates, width, label = 'Not Returned')\n",
    "\n",
    "# Graph elements\n",
    "ax.set_ylabel('Number of Users')\n",
    "ax.set_title('User Comparison Between Level Gates 30 and 40')\n",
    "ax.set_xticks(labelLen)\n",
    "ax.set_xticklabels(labels)\n",
    "ax.legend()\n",
    "\n",
    "plt.show()"
   ]
  },
  {
   "cell_type": "code",
   "execution_count": 6,
   "metadata": {},
   "outputs": [
    {
     "data": {
      "text/plain": [
       "<matplotlib.collections.PathCollection at 0x1f5cdb81820>"
      ]
     },
     "execution_count": 6,
     "metadata": {},
     "output_type": "execute_result"
    },
    {
     "data": {
      "image/png": "[encoded data removed]",
      "text/plain": [
       "<Figure size 864x360 with 1 Axes>"
      ]
     },
     "metadata": {
      "needs_background": "light"
     },
     "output_type": "display_data"
    }
   ],
   "source": [
    "plt.figure(figsize = (12,5))\n",
    "plt.scatter(x = ccats['version'], y = ccats['sum_gamerounds'])"
   ]
  },
  {
   "cell_type": "code",
   "execution_count": 7,
   "metadata": {},
   "outputs": [],
   "source": [
    "ccats = ccats[ccats.sum_gamerounds < 10000]"
   ]
  },
  {
   "cell_type": "code",
   "execution_count": 8,
   "metadata": {},
   "outputs": [
    {
     "data": {
      "text/plain": [
       "<matplotlib.collections.PathCollection at 0x1f5cecef580>"
      ]
     },
     "execution_count": 8,
     "metadata": {},
     "output_type": "execute_result"
    },
    {
     "data": {
      "image/png": "[encoded data removed]",
      "text/plain": [
       "<Figure size 864x360 with 1 Axes>"
      ]
     },
     "metadata": {
      "needs_background": "light"
     },
     "output_type": "display_data"
    }
   ],
   "source": [
    "plt.figure(figsize = (12,5))\n",
    "plt.scatter(x = ccats['version'], y = ccats['sum_gamerounds'])"
   ]
  },
  {
   "cell_type": "code",
   "execution_count": 42,
   "metadata": {},
   "outputs": [
    {
     "data": {
      "image/png": "[encoded data removed]",
      "text/plain": [
       "<Figure size 864x360 with 1 Axes>"
      ]
     },
     "metadata": {
      "needs_background": "light"
     },
     "output_type": "display_data"
    }
   ],
   "source": [
    "plt.figure(figsize = (12,5))\n",
    "numBins = np.linspace(1, 3000, 100)\n",
    "plt.hist(ccats['sum_gamerounds'].where(ccats['version'] == 'gate_30'), numBins, label = \"Control\")\n",
    "plt.hist(ccats['sum_gamerounds'].where(ccats['version'] == 'gate_40'), numBins, label = 'Moved', alpha = 0.6)\n",
    "plt.title('Histogram Comparison')\n",
    "plt.ylabel('Counts (log)')\n",
    "plt.xlabel('Total Game Rounds Played')\n",
    "plt.yscale('log')\n",
    "plt.legend()\n",
    "plt.show()"
   ]
  },
  {
   "cell_type": "code",
   "execution_count": 41,
   "metadata": {},
   "outputs": [
    {
     "name": "stdout",
     "output_type": "stream",
     "text": [
      "The mean gamerounds for the control vs the moved is: 51.342 vs. 51.299\n"
     ]
    }
   ],
   "source": [
    "meanThirty = ccats.loc[(ccats['version'] == 'gate_30')].mean()[1]\n",
    "meanForty = ccats.loc[(ccats['version'] == 'gate_40')].mean()[1]\n",
    "\n",
    "print(f\"The mean gamerounds for the control vs the moved is: {round(meanThirty,3)} vs. {round(meanForty,3)}\")"
   ]
  },
  {
   "cell_type": "code",
   "execution_count": 12,
   "metadata": {},
   "outputs": [
    {
     "name": "stdout",
     "output_type": "stream",
     "text": [
      "The 1 day retention rate for the control vs the moved is: 44.82% vs. 44.23%\n",
      "The 7 day retention rate for the control vs the moved is: 19.02% vs. 18.2%\n"
     ]
    }
   ],
   "source": [
    "#Table showing retention rates for (gate30 ret 1), (gate40 ret 1), (gate30 ret 7), (gate40 ret 7)\n",
    "totalThirty = len(ccats.loc[(ccats['version'] == 'gate_30')])\n",
    "totalForty = len(ccats.loc[(ccats['version'] == 'gate_40')])\n",
    "\n",
    "rateThirtyOne = round((thirtyOneT/totalThirty)*100,2)\n",
    "rateThirtySeven = round((thirtySevenT/totalThirty)*100,2)\n",
    "\n",
    "rateFortyOne = round((fortyOneT/totalForty)*100,2)\n",
    "rateFortySeven = round((fortySevenT/totalForty)*100,2)\n",
    "\n",
    "print(f\"The 1 day retention rate for the control vs the moved is: {rateThirtyOne}% vs. {rateFortyOne}%\")\n",
    "print(f\"The 7 day retention rate for the control vs the moved is: {rateThirtySeven}% vs. {rateFortySeven}%\")"
   ]
  },
  {
   "cell_type": "markdown",
   "metadata": {},
   "source": [
    "$$ H_0 : d = 0 \\; \\; \\; \\text{vs}\\; \\; \\; H_1 : d \\neq 0 $$\n",
    "\n",
    "$$H_0: \\; \\; \\text{ The difference between the two scenarios is 0.}\\; $$\n",
    "$$H_1: \\; \\; \\text{ The difference between the two scenarios is not 0.}\\; $$"
   ]
  },
  {
   "cell_type": "code",
   "execution_count": 13,
   "metadata": {},
   "outputs": [],
   "source": [
    "# proportions z test is located inside statsmodels\n",
    "from statsmodels.stats.proportion import proportions_ztest"
   ]
  },
  {
   "cell_type": "code",
   "execution_count": 44,
   "metadata": {},
   "outputs": [
    {
     "name": "stdout",
     "output_type": "stream",
     "text": [
      "The p-value for the mean gamerounds between the control and moved users is: 0.9258417189307235\n"
     ]
    }
   ],
   "source": [
    "meanGates = [meanThirty, meanForty]\n",
    "meanObs =  [totalThirty, totalForty]\n",
    "print(f\"The p-value for the mean gamerounds between the control and moved users is: {proportions_ztest(meanGates, meanObs)[1]}\")"
   ]
  },
  {
   "cell_type": "code",
   "execution_count": 15,
   "metadata": {},
   "outputs": [
    {
     "name": "stdout",
     "output_type": "stream",
     "text": [
      "The p-value for the one day retention rate between the control and moved users is: 0.0739207603418346\n"
     ]
    }
   ],
   "source": [
    "retOneCount = [thirtyOneT, fortyOneT]\n",
    "retOneObs =  [totalThirty, totalForty]\n",
    "print(f\"The p-value for the one day retention rate between the control and moved users is: {proportions_ztest(retOneCount, retOneObs)[1]}\")"
   ]
  },
  {
   "cell_type": "markdown",
   "metadata": {},
   "source": [
    "The p-value is 0.0739 which means we cannot reject the null hypothesis based on the arbitrary industry standard cut-off of 0.05. There is no statistical difference between the one day retention rates of both scenarios."
   ]
  },
  {
   "cell_type": "code",
   "execution_count": 16,
   "metadata": {},
   "outputs": [
    {
     "name": "stdout",
     "output_type": "stream",
     "text": [
      "The p-value for the seven day retention rate between the control and moved users is: 0.0015456710271495385\n"
     ]
    }
   ],
   "source": [
    "retSevenCount = [thirtySevenT, fortySevenT]\n",
    "retSevenObs =  [totalThirty, totalForty]\n",
    "print(f\"The p-value for the seven day retention rate between the control and moved users is: {proportions_ztest(retSevenCount, retSevenObs)[1]}\")"
   ]
  },
  {
   "cell_type": "markdown",
   "metadata": {},
   "source": [
    "The p-value is 0.0016 which means we can reject the null hypothesis based on the arbitrary industry standard cut-off of 0.05. There is a statistical difference between the seven day retention rates of both scenarios."
   ]
  },
  {
   "cell_type": "markdown",
   "metadata": {},
   "source": [
    "### Conclusion\n",
    "\n",
    "There was a 0.59% drop in one day retention rate between control group and the moved group. Through a proportional z-test it was determined that the difference between the two scenarios was not statistically different. With the data currently available we cannot say that there was a difference in the one day retention rate.\n",
    "\n",
    "There was a 0.82% drop in seven day retention rate between control group and the moved group. Through a proportional z-test it was determined that the difference between the two scenarios was statistically different. With the data currently available we can say that there was a significant drop in the seven day retention rate."
   ]
  },
  {
   "cell_type": "code",
   "execution_count": 17,
   "metadata": {},
   "outputs": [
    {
     "data": {
      "text/html": [
       "<div>\n",
       "<style scoped>\n",
       "    .dataframe tbody tr th:only-of-type {\n",
       "        vertical-align: middle;\n",
       "    }\n",
       "\n",
       "    .dataframe tbody tr th {\n",
       "        vertical-align: top;\n",
       "    }\n",
       "\n",
       "    .dataframe thead th {\n",
       "        text-align: right;\n",
       "    }\n",
       "</style>\n",
       "<table border=\"1\" class=\"dataframe\">\n",
       "  <thead>\n",
       "    <tr style=\"text-align: right;\">\n",
       "      <th></th>\n",
       "      <th>auction_id</th>\n",
       "      <th>experiment</th>\n",
       "      <th>date</th>\n",
       "      <th>hour</th>\n",
       "      <th>device_make</th>\n",
       "      <th>platform_os</th>\n",
       "      <th>browser</th>\n",
       "      <th>yes</th>\n",
       "      <th>no</th>\n",
       "    </tr>\n",
       "  </thead>\n",
       "  <tbody>\n",
       "    <tr>\n",
       "      <th>0</th>\n",
       "      <td>0008ef63-77a7-448b-bd1e-075f42c55e39</td>\n",
       "      <td>exposed</td>\n",
       "      <td>2020-07-10</td>\n",
       "      <td>8</td>\n",
       "      <td>Generic Smartphone</td>\n",
       "      <td>6</td>\n",
       "      <td>Chrome Mobile</td>\n",
       "      <td>0</td>\n",
       "      <td>0</td>\n",
       "    </tr>\n",
       "    <tr>\n",
       "      <th>1</th>\n",
       "      <td>000eabc5-17ce-4137-8efe-44734d914446</td>\n",
       "      <td>exposed</td>\n",
       "      <td>2020-07-07</td>\n",
       "      <td>10</td>\n",
       "      <td>Generic Smartphone</td>\n",
       "      <td>6</td>\n",
       "      <td>Chrome Mobile</td>\n",
       "      <td>0</td>\n",
       "      <td>0</td>\n",
       "    </tr>\n",
       "    <tr>\n",
       "      <th>2</th>\n",
       "      <td>0016d14a-ae18-4a02-a204-6ba53b52f2ed</td>\n",
       "      <td>exposed</td>\n",
       "      <td>2020-07-05</td>\n",
       "      <td>2</td>\n",
       "      <td>E5823</td>\n",
       "      <td>6</td>\n",
       "      <td>Chrome</td>\n",
       "      <td>0</td>\n",
       "      <td>1</td>\n",
       "    </tr>\n",
       "    <tr>\n",
       "      <th>3</th>\n",
       "      <td>00187412-2932-4542-a8ef-3633901c98d9</td>\n",
       "      <td>control</td>\n",
       "      <td>2020-07-03</td>\n",
       "      <td>15</td>\n",
       "      <td>Samsung SM-A705FN</td>\n",
       "      <td>6</td>\n",
       "      <td>Facebook</td>\n",
       "      <td>0</td>\n",
       "      <td>0</td>\n",
       "    </tr>\n",
       "    <tr>\n",
       "      <th>4</th>\n",
       "      <td>001a7785-d3fe-4e11-a344-c8735acacc2c</td>\n",
       "      <td>control</td>\n",
       "      <td>2020-07-03</td>\n",
       "      <td>15</td>\n",
       "      <td>Generic Smartphone</td>\n",
       "      <td>6</td>\n",
       "      <td>Chrome Mobile</td>\n",
       "      <td>0</td>\n",
       "      <td>0</td>\n",
       "    </tr>\n",
       "    <tr>\n",
       "      <th>...</th>\n",
       "      <td>...</td>\n",
       "      <td>...</td>\n",
       "      <td>...</td>\n",
       "      <td>...</td>\n",
       "      <td>...</td>\n",
       "      <td>...</td>\n",
       "      <td>...</td>\n",
       "      <td>...</td>\n",
       "      <td>...</td>\n",
       "    </tr>\n",
       "    <tr>\n",
       "      <th>8072</th>\n",
       "      <td>ffea24ec-cec1-43fb-b1d1-8f93828c2be2</td>\n",
       "      <td>exposed</td>\n",
       "      <td>2020-07-05</td>\n",
       "      <td>7</td>\n",
       "      <td>Generic Smartphone</td>\n",
       "      <td>6</td>\n",
       "      <td>Chrome Mobile</td>\n",
       "      <td>0</td>\n",
       "      <td>0</td>\n",
       "    </tr>\n",
       "    <tr>\n",
       "      <th>8073</th>\n",
       "      <td>ffea3210-2c3e-426f-a77d-0aa72e73b20f</td>\n",
       "      <td>control</td>\n",
       "      <td>2020-07-03</td>\n",
       "      <td>15</td>\n",
       "      <td>Generic Smartphone</td>\n",
       "      <td>6</td>\n",
       "      <td>Chrome Mobile</td>\n",
       "      <td>0</td>\n",
       "      <td>0</td>\n",
       "    </tr>\n",
       "    <tr>\n",
       "      <th>8074</th>\n",
       "      <td>ffeaa0f1-1d72-4ba9-afb4-314b3b00a7c7</td>\n",
       "      <td>control</td>\n",
       "      <td>2020-07-04</td>\n",
       "      <td>9</td>\n",
       "      <td>Generic Smartphone</td>\n",
       "      <td>6</td>\n",
       "      <td>Chrome Mobile</td>\n",
       "      <td>0</td>\n",
       "      <td>0</td>\n",
       "    </tr>\n",
       "    <tr>\n",
       "      <th>8075</th>\n",
       "      <td>ffeeed62-3f7c-4a6e-8ba7-95d303d40969</td>\n",
       "      <td>exposed</td>\n",
       "      <td>2020-07-05</td>\n",
       "      <td>15</td>\n",
       "      <td>Samsung SM-A515F</td>\n",
       "      <td>6</td>\n",
       "      <td>Samsung Internet</td>\n",
       "      <td>0</td>\n",
       "      <td>0</td>\n",
       "    </tr>\n",
       "    <tr>\n",
       "      <th>8076</th>\n",
       "      <td>fffbb9ff-568a-41a5-a0c3-6866592f80d8</td>\n",
       "      <td>control</td>\n",
       "      <td>2020-07-10</td>\n",
       "      <td>14</td>\n",
       "      <td>Samsung SM-G960F</td>\n",
       "      <td>6</td>\n",
       "      <td>Facebook</td>\n",
       "      <td>0</td>\n",
       "      <td>0</td>\n",
       "    </tr>\n",
       "  </tbody>\n",
       "</table>\n",
       "<p>8077 rows × 9 columns</p>\n",
       "</div>"
      ],
      "text/plain": [
       "                                auction_id experiment        date  hour  \\\n",
       "0     0008ef63-77a7-448b-bd1e-075f42c55e39    exposed  2020-07-10     8   \n",
       "1     000eabc5-17ce-4137-8efe-44734d914446    exposed  2020-07-07    10   \n",
       "2     0016d14a-ae18-4a02-a204-6ba53b52f2ed    exposed  2020-07-05     2   \n",
       "3     00187412-2932-4542-a8ef-3633901c98d9    control  2020-07-03    15   \n",
       "4     001a7785-d3fe-4e11-a344-c8735acacc2c    control  2020-07-03    15   \n",
       "...                                    ...        ...         ...   ...   \n",
       "8072  ffea24ec-cec1-43fb-b1d1-8f93828c2be2    exposed  2020-07-05     7   \n",
       "8073  ffea3210-2c3e-426f-a77d-0aa72e73b20f    control  2020-07-03    15   \n",
       "8074  ffeaa0f1-1d72-4ba9-afb4-314b3b00a7c7    control  2020-07-04     9   \n",
       "8075  ffeeed62-3f7c-4a6e-8ba7-95d303d40969    exposed  2020-07-05    15   \n",
       "8076  fffbb9ff-568a-41a5-a0c3-6866592f80d8    control  2020-07-10    14   \n",
       "\n",
       "             device_make  platform_os           browser  yes  no  \n",
       "0     Generic Smartphone            6     Chrome Mobile    0   0  \n",
       "1     Generic Smartphone            6     Chrome Mobile    0   0  \n",
       "2                  E5823            6            Chrome    0   1  \n",
       "3      Samsung SM-A705FN            6          Facebook    0   0  \n",
       "4     Generic Smartphone            6     Chrome Mobile    0   0  \n",
       "...                  ...          ...               ...  ...  ..  \n",
       "8072  Generic Smartphone            6     Chrome Mobile    0   0  \n",
       "8073  Generic Smartphone            6     Chrome Mobile    0   0  \n",
       "8074  Generic Smartphone            6     Chrome Mobile    0   0  \n",
       "8075    Samsung SM-A515F            6  Samsung Internet    0   0  \n",
       "8076    Samsung SM-G960F            6          Facebook    0   0  \n",
       "\n",
       "[8077 rows x 9 columns]"
      ]
     },
     "execution_count": 17,
     "metadata": {},
     "output_type": "execute_result"
    }
   ],
   "source": [
    "adSmart = pd.read_csv('AdSmartABdata - AdSmartABdata.csv')\n",
    "adSmart"
   ]
  },
  {
   "cell_type": "code",
   "execution_count": 18,
   "metadata": {},
   "outputs": [],
   "source": [
    "adSmart.drop(['no'], axis = 1, inplace = True)\n",
    "adSmart.rename(columns= {'yes': 'questionaire'}, inplace = True)"
   ]
  },
  {
   "cell_type": "code",
   "execution_count": 19,
   "metadata": {},
   "outputs": [
    {
     "name": "stdout",
     "output_type": "stream",
     "text": [
      "There were 572 users that participated in the questionaire.\n",
      "There were 7505 users that did not participated in the questionaire.\n"
     ]
    }
   ],
   "source": [
    "print(f\"There were {adSmart.questionaire.value_counts()[1]} users that participated in the questionaire.\")\n",
    "print(f\"There were {adSmart.questionaire.value_counts()[0]} users that did not participated in the questionaire.\")"
   ]
  },
  {
   "cell_type": "code",
   "execution_count": 20,
   "metadata": {},
   "outputs": [
    {
     "data": {
      "text/plain": [
       "Chrome Mobile                 4554\n",
       "Chrome                        1492\n",
       "Samsung Internet               824\n",
       "Facebook                       764\n",
       "Mobile Safari                  337\n",
       "Chrome Mobile iOS               51\n",
       "Mobile Safari UI/WKWebView      44\n",
       "Opera Mobile                     3\n",
       "Pinterest                        3\n",
       "Android                          1\n",
       "Puffin                           1\n",
       "Opera Mini                       1\n",
       "Edge Mobile                      1\n",
       "Firefox Mobile                   1\n",
       "Name: browser, dtype: int64"
      ]
     },
     "execution_count": 20,
     "metadata": {},
     "output_type": "execute_result"
    }
   ],
   "source": [
    "adSmart.browser.value_counts()"
   ]
  },
  {
   "cell_type": "code",
   "execution_count": 21,
   "metadata": {},
   "outputs": [],
   "source": [
    "adSmart.browser.replace(['Chrome Mobile',\n",
    "                         'Samsung Internet',\n",
    "                         'Mobile Safari',\n",
    "                         'Chrome Mobile iOS',\n",
    "                         'Mobile Safari UI/WKWebView',\n",
    "                         'Opera Mobile',\n",
    "                         'Firefox Mobile',\n",
    "                         'Android',\n",
    "                         'Edge Mobile',\n",
    "                         'Puffin'],'Mobile', inplace = True)"
   ]
  },
  {
   "cell_type": "code",
   "execution_count": 22,
   "metadata": {},
   "outputs": [],
   "source": [
    "adSmart.browser.replace(['Chrome',\n",
    "                         'Opera Mini'],'Desktop', inplace = True)"
   ]
  },
  {
   "cell_type": "code",
   "execution_count": 23,
   "metadata": {},
   "outputs": [],
   "source": [
    "adSmart.browser.replace(['Facebook',\n",
    "                         'Pinterest'],'Application', inplace = True)"
   ]
  },
  {
   "cell_type": "code",
   "execution_count": 24,
   "metadata": {},
   "outputs": [
    {
     "data": {
      "text/plain": [
       "Mobile         5817\n",
       "Desktop        1493\n",
       "Application     767\n",
       "Name: browser, dtype: int64"
      ]
     },
     "execution_count": 24,
     "metadata": {},
     "output_type": "execute_result"
    }
   ],
   "source": [
    "adSmart.browser.value_counts()"
   ]
  },
  {
   "cell_type": "code",
   "execution_count": 25,
   "metadata": {},
   "outputs": [
    {
     "data": {
      "image/png": "[encoded data removed]",
      "text/plain": [
       "<Figure size 864x360 with 1 Axes>"
      ]
     },
     "metadata": {
      "needs_background": "light"
     },
     "output_type": "display_data"
    }
   ],
   "source": [
    "plt.figure(figsize = (12,5))\n",
    "plt.hist(adSmart['hour'])\n",
    "plt.xlabel('Hour')\n",
    "plt.ylabel('Count')\n",
    "plt.title('Auctions by Hour')\n",
    "plt.show()"
   ]
  },
  {
   "cell_type": "code",
   "execution_count": 26,
   "metadata": {},
   "outputs": [],
   "source": [
    "adSmart.hour.replace([7, 8, 9, 10, 11, 12, 13, 14],'Morning', inplace = True)\n",
    "adSmart.hour.replace([15, 16, 17, 18, 19, 20],'Evening', inplace = True)\n",
    "adSmart.hour.replace([21, 22, 23, 24, 0, 1, 2, 3, 4, 5, 6],'Night', inplace = True)\n",
    "adSmart.rename(columns= {'hour': 'timeOfDay'}, inplace = True)"
   ]
  },
  {
   "cell_type": "code",
   "execution_count": 27,
   "metadata": {},
   "outputs": [
    {
     "data": {
      "text/plain": [
       "Evening    3257\n",
       "Morning    2626\n",
       "Night      2194\n",
       "Name: timeOfDay, dtype: int64"
      ]
     },
     "execution_count": 27,
     "metadata": {},
     "output_type": "execute_result"
    }
   ],
   "source": [
    "adSmart.timeOfDay.value_counts()"
   ]
  },
  {
   "cell_type": "code",
   "execution_count": 28,
   "metadata": {},
   "outputs": [],
   "source": [
    "adSmart.drop(['device_make', 'platform_os'], axis =1, inplace = True)"
   ]
  },
  {
   "cell_type": "code",
   "execution_count": 29,
   "metadata": {},
   "outputs": [
    {
     "data": {
      "text/html": [
       "<div>\n",
       "<style scoped>\n",
       "    .dataframe tbody tr th:only-of-type {\n",
       "        vertical-align: middle;\n",
       "    }\n",
       "\n",
       "    .dataframe tbody tr th {\n",
       "        vertical-align: top;\n",
       "    }\n",
       "\n",
       "    .dataframe thead th {\n",
       "        text-align: right;\n",
       "    }\n",
       "</style>\n",
       "<table border=\"1\" class=\"dataframe\">\n",
       "  <thead>\n",
       "    <tr style=\"text-align: right;\">\n",
       "      <th></th>\n",
       "      <th>auction_id</th>\n",
       "      <th>experiment</th>\n",
       "      <th>date</th>\n",
       "      <th>timeOfDay</th>\n",
       "      <th>browser</th>\n",
       "      <th>questionaire</th>\n",
       "    </tr>\n",
       "  </thead>\n",
       "  <tbody>\n",
       "    <tr>\n",
       "      <th>0</th>\n",
       "      <td>0008ef63-77a7-448b-bd1e-075f42c55e39</td>\n",
       "      <td>exposed</td>\n",
       "      <td>2020-07-10</td>\n",
       "      <td>Morning</td>\n",
       "      <td>Mobile</td>\n",
       "      <td>0</td>\n",
       "    </tr>\n",
       "    <tr>\n",
       "      <th>1</th>\n",
       "      <td>000eabc5-17ce-4137-8efe-44734d914446</td>\n",
       "      <td>exposed</td>\n",
       "      <td>2020-07-07</td>\n",
       "      <td>Morning</td>\n",
       "      <td>Mobile</td>\n",
       "      <td>0</td>\n",
       "    </tr>\n",
       "    <tr>\n",
       "      <th>2</th>\n",
       "      <td>0016d14a-ae18-4a02-a204-6ba53b52f2ed</td>\n",
       "      <td>exposed</td>\n",
       "      <td>2020-07-05</td>\n",
       "      <td>Night</td>\n",
       "      <td>Desktop</td>\n",
       "      <td>0</td>\n",
       "    </tr>\n",
       "    <tr>\n",
       "      <th>3</th>\n",
       "      <td>00187412-2932-4542-a8ef-3633901c98d9</td>\n",
       "      <td>control</td>\n",
       "      <td>2020-07-03</td>\n",
       "      <td>Evening</td>\n",
       "      <td>Application</td>\n",
       "      <td>0</td>\n",
       "    </tr>\n",
       "    <tr>\n",
       "      <th>4</th>\n",
       "      <td>001a7785-d3fe-4e11-a344-c8735acacc2c</td>\n",
       "      <td>control</td>\n",
       "      <td>2020-07-03</td>\n",
       "      <td>Evening</td>\n",
       "      <td>Mobile</td>\n",
       "      <td>0</td>\n",
       "    </tr>\n",
       "    <tr>\n",
       "      <th>...</th>\n",
       "      <td>...</td>\n",
       "      <td>...</td>\n",
       "      <td>...</td>\n",
       "      <td>...</td>\n",
       "      <td>...</td>\n",
       "      <td>...</td>\n",
       "    </tr>\n",
       "    <tr>\n",
       "      <th>8072</th>\n",
       "      <td>ffea24ec-cec1-43fb-b1d1-8f93828c2be2</td>\n",
       "      <td>exposed</td>\n",
       "      <td>2020-07-05</td>\n",
       "      <td>Morning</td>\n",
       "      <td>Mobile</td>\n",
       "      <td>0</td>\n",
       "    </tr>\n",
       "    <tr>\n",
       "      <th>8073</th>\n",
       "      <td>ffea3210-2c3e-426f-a77d-0aa72e73b20f</td>\n",
       "      <td>control</td>\n",
       "      <td>2020-07-03</td>\n",
       "      <td>Evening</td>\n",
       "      <td>Mobile</td>\n",
       "      <td>0</td>\n",
       "    </tr>\n",
       "    <tr>\n",
       "      <th>8074</th>\n",
       "      <td>ffeaa0f1-1d72-4ba9-afb4-314b3b00a7c7</td>\n",
       "      <td>control</td>\n",
       "      <td>2020-07-04</td>\n",
       "      <td>Morning</td>\n",
       "      <td>Mobile</td>\n",
       "      <td>0</td>\n",
       "    </tr>\n",
       "    <tr>\n",
       "      <th>8075</th>\n",
       "      <td>ffeeed62-3f7c-4a6e-8ba7-95d303d40969</td>\n",
       "      <td>exposed</td>\n",
       "      <td>2020-07-05</td>\n",
       "      <td>Evening</td>\n",
       "      <td>Mobile</td>\n",
       "      <td>0</td>\n",
       "    </tr>\n",
       "    <tr>\n",
       "      <th>8076</th>\n",
       "      <td>fffbb9ff-568a-41a5-a0c3-6866592f80d8</td>\n",
       "      <td>control</td>\n",
       "      <td>2020-07-10</td>\n",
       "      <td>Morning</td>\n",
       "      <td>Application</td>\n",
       "      <td>0</td>\n",
       "    </tr>\n",
       "  </tbody>\n",
       "</table>\n",
       "<p>8077 rows × 6 columns</p>\n",
       "</div>"
      ],
      "text/plain": [
       "                                auction_id experiment        date timeOfDay  \\\n",
       "0     0008ef63-77a7-448b-bd1e-075f42c55e39    exposed  2020-07-10   Morning   \n",
       "1     000eabc5-17ce-4137-8efe-44734d914446    exposed  2020-07-07   Morning   \n",
       "2     0016d14a-ae18-4a02-a204-6ba53b52f2ed    exposed  2020-07-05     Night   \n",
       "3     00187412-2932-4542-a8ef-3633901c98d9    control  2020-07-03   Evening   \n",
       "4     001a7785-d3fe-4e11-a344-c8735acacc2c    control  2020-07-03   Evening   \n",
       "...                                    ...        ...         ...       ...   \n",
       "8072  ffea24ec-cec1-43fb-b1d1-8f93828c2be2    exposed  2020-07-05   Morning   \n",
       "8073  ffea3210-2c3e-426f-a77d-0aa72e73b20f    control  2020-07-03   Evening   \n",
       "8074  ffeaa0f1-1d72-4ba9-afb4-314b3b00a7c7    control  2020-07-04   Morning   \n",
       "8075  ffeeed62-3f7c-4a6e-8ba7-95d303d40969    exposed  2020-07-05   Evening   \n",
       "8076  fffbb9ff-568a-41a5-a0c3-6866592f80d8    control  2020-07-10   Morning   \n",
       "\n",
       "          browser  questionaire  \n",
       "0          Mobile             0  \n",
       "1          Mobile             0  \n",
       "2         Desktop             0  \n",
       "3     Application             0  \n",
       "4          Mobile             0  \n",
       "...           ...           ...  \n",
       "8072       Mobile             0  \n",
       "8073       Mobile             0  \n",
       "8074       Mobile             0  \n",
       "8075       Mobile             0  \n",
       "8076  Application             0  \n",
       "\n",
       "[8077 rows x 6 columns]"
      ]
     },
     "execution_count": 29,
     "metadata": {},
     "output_type": "execute_result"
    }
   ],
   "source": [
    "adSmart"
   ]
  },
  {
   "cell_type": "code",
   "execution_count": 30,
   "metadata": {},
   "outputs": [],
   "source": [
    "controlCount = len(adSmart.loc[((adSmart['questionaire']) == 1) & (adSmart['experiment'] == 'control')])\n",
    "exposedCount = len(adSmart.loc[((adSmart['questionaire']) == 1) & (adSmart['experiment'] == 'exposed')])\n",
    "\n",
    "controlObs = len(adSmart.loc[(adSmart['experiment']) == 'control'])\n",
    "exposedObs = len(adSmart.loc[(adSmart['experiment']) == 'exposed'])"
   ]
  },
  {
   "cell_type": "code",
   "execution_count": 31,
   "metadata": {},
   "outputs": [
    {
     "name": "stdout",
     "output_type": "stream",
     "text": [
      "The participation rate for the control vs the exposed is: 6.48% vs. 7.69%\n"
     ]
    }
   ],
   "source": [
    "rateControl = round((controlCount/controlObs)*100,2)\n",
    "rateExposed = round((exposedCount/exposedObs)*100,2)\n",
    "print(f\"The participation rate for the control vs the exposed is: {rateControl}% vs. {rateExposed}%\")"
   ]
  },
  {
   "cell_type": "code",
   "execution_count": 32,
   "metadata": {},
   "outputs": [
    {
     "name": "stdout",
     "output_type": "stream",
     "text": [
      "The p-value for the one day retention rate for the control and moved users is: 0.035005825968324515\n"
     ]
    }
   ],
   "source": [
    "partCount = [controlCount, exposedCount]\n",
    "partObs =  [controlObs, exposedObs]\n",
    "print(f\"The p-value for the one day retention rate for the control and moved users is: {proportions_ztest(partCount, partObs)[1]}\")"
   ]
  },
  {
   "cell_type": "code",
   "execution_count": 33,
   "metadata": {},
   "outputs": [],
   "source": [
    "morningCount = len(adSmart.loc[((adSmart['questionaire']) == 1) & (adSmart['timeOfDay'] == 'Morning')])\n",
    "eveningCount = len(adSmart.loc[((adSmart['questionaire']) == 1) & (adSmart['timeOfDay'] == 'Evening')])\n",
    "nightCount = len(adSmart.loc[((adSmart['questionaire']) == 1) & (adSmart['timeOfDay'] == 'Night')])\n",
    "\n",
    "morningObs = len(adSmart.loc[(adSmart['timeOfDay']) == 'Morning'])\n",
    "eveningObs = len(adSmart.loc[(adSmart['timeOfDay']) == 'Evening'])\n",
    "nightObs = len(adSmart.loc[(adSmart['timeOfDay']) == 'Night'])"
   ]
  },
  {
   "cell_type": "code",
   "execution_count": 34,
   "metadata": {},
   "outputs": [
    {
     "name": "stdout",
     "output_type": "stream",
     "text": [
      "The participation rate for different times of the day is:\n",
      " 7.04% for the morning\n",
      " 6.88% for the evening\n",
      " 7.43% for the night.\n"
     ]
    }
   ],
   "source": [
    "rateMorning = round((morningCount/morningObs)*100,2)\n",
    "rateEvening = round((eveningCount/eveningObs)*100,2)\n",
    "rateNight = round((nightCount/nightObs)*100,2)\n",
    "print(f\"The participation rate for different times of the day is:\\n {rateMorning}% for the morning\\n {rateEvening}% for the evening\\n {rateNight}% for the night.\")"
   ]
  },
  {
   "cell_type": "code",
   "execution_count": 35,
   "metadata": {},
   "outputs": [
    {
     "data": {
      "text/plain": [
       "(-0.7780193784205571, 0.43655758918216836)"
      ]
     },
     "execution_count": 35,
     "metadata": {},
     "output_type": "execute_result"
    }
   ],
   "source": [
    "partENCount = [eveningCount, nightCount]\n",
    "partENObs =  [eveningObs, nightObs]\n",
    "proportions_ztest(partENCount, partENObs)"
   ]
  },
  {
   "cell_type": "code",
   "execution_count": 36,
   "metadata": {},
   "outputs": [],
   "source": [
    "desktopCount = len(adSmart.loc[((adSmart['questionaire']) == 1) & (adSmart['browser'] == 'Desktop')])\n",
    "mobileCount = len(adSmart.loc[((adSmart['questionaire']) == 1) & (adSmart['browser'] == 'Mobile')])\n",
    "appCount = len(adSmart.loc[((adSmart['questionaire']) == 1) & (adSmart['browser'] == 'Application')])\n",
    "\n",
    "desktopObs = len(adSmart.loc[(adSmart['browser']) == 'Desktop'])\n",
    "mobileObs = len(adSmart.loc[(adSmart['browser']) == 'Mobile'])\n",
    "appObs = len(adSmart.loc[(adSmart['browser']) == 'Application'])"
   ]
  },
  {
   "cell_type": "code",
   "execution_count": 37,
   "metadata": {},
   "outputs": [
    {
     "name": "stdout",
     "output_type": "stream",
     "text": [
      "The participation rate for different times of the day is:\n",
      " 7.84% on Desktop\n",
      " 6.64% on Mobile\n",
      " 9.0% on Applications.\n"
     ]
    }
   ],
   "source": [
    "rateDesktop = round((desktopCount/desktopObs)*100,2)\n",
    "rateMobile = round((mobileCount/mobileObs)*100,2)\n",
    "rateApp = round((appCount/appObs)*100,2)\n",
    "print(f\"The participation rate for different times of the day is:\\n {rateDesktop}% on Desktop\\n {rateMobile}% on Mobile\\n {rateApp}% on Applications.\")"
   ]
  },
  {
   "cell_type": "code",
   "execution_count": 38,
   "metadata": {},
   "outputs": [
    {
     "name": "stdout",
     "output_type": "stream",
     "text": [
      "The p-value between mobile and application exposed participation is: 0.015412436404582513\n"
     ]
    }
   ],
   "source": [
    "partMACount = [mobileCount, appCount]\n",
    "partMAObs =  [mobileObs, appObs]\n",
    "print(f\"The p-value between mobile and application exposed participation is: {proportions_ztest(partMACount, partMAObs)[1]}\")"
   ]
  },
  {
   "cell_type": "code",
   "execution_count": 39,
   "metadata": {},
   "outputs": [
    {
     "name": "stdout",
     "output_type": "stream",
     "text": [
      "The p-value between desktop and application exposed participation is: 0.3422513590998233\n"
     ]
    }
   ],
   "source": [
    "partDACount = [desktopCount, appCount]\n",
    "partDAObs =  [desktopObs, appObs]\n",
    "print(f\"The p-value between desktop and application exposed participation is: {proportions_ztest(partDACount, partDAObs)[1]}\")"
   ]
  },
  {
   "cell_type": "code",
   "execution_count": 40,
   "metadata": {},
   "outputs": [
    {
     "name": "stdout",
     "output_type": "stream",
     "text": [
      "The p-value between desktop and mobile exposed participation is: 0.10201238471502544\n"
     ]
    }
   ],
   "source": [
    "partDMCount = [desktopCount, mobileCount]\n",
    "partDMObs =  [desktopObs, mobileObs]\n",
    "print(f\"The p-value between desktop and mobile exposed participation is: {proportions_ztest(partDMCount, partDMObs)[1]}\")"
   ]
  }
 ],
 "metadata": {
  "kernelspec": {
   "display_name": "Python 3",
   "language": "python",
   "name": "python3"
  },
  "language_info": {
   "codemirror_mode": {
    "name": "ipython",
    "version": 3
   },
   "file_extension": ".py",
   "mimetype": "text/x-python",
   "name": "python",
   "nbconvert_exporter": "python",
   "pygments_lexer": "ipython3",
   "version": "3.8.3"
  }
 },
 "nbformat": 4,
 "nbformat_minor": 4
}
