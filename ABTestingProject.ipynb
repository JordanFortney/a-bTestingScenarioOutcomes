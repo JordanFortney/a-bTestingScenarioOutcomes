{
 "cells": [
  {
   "cell_type": "markdown",
   "metadata": {},
   "source": [
    "# Evaluating Scenario Outcomes With A/B Testing"
   ]
  },
  {
   "cell_type": "markdown",
   "metadata": {},
   "source": [
    "## Introduction\n",
    "A/B testing is a very common framework for comparing the outcomes of two scenarios. These could be two brand new scenarios or a new idea that you want to test against your current strategy. A/B testing will not outright tell you which scenario is better but it will tell you whether there is a statistical difference between the two. You can then consult other performance metrics to judge their effectiveness. \n",
    "\n",
    "This project will investigate two sets of data with different inputs and goals. The first is data from a mobile game called Cookie Cats that looks at retention rate and the second is data from an auction platform that looks at the participation rate of a questionnaire."
   ]
  },
  {
   "cell_type": "markdown",
   "metadata": {},
   "source": [
    "## Case Study 1: Cookie Cats - Mobile Game"
   ]
  },
  {
   "cell_type": "markdown",
   "metadata": {},
   "source": [
    "Cookie Cats is a classic mobile puzzle game where you must connect three matching icons to get points and progress through the game's puzzles. As puzzles are completed users will level up their accounts and encounter more difficult puzzles. At certain levels there are content gates that require the user to wait a certain amount of time or make an in-game purchase to continue solving puzzles and level up further. \n",
    "\n",
    "The two scenarios we are analyzing for this case study are: the first content gate being at level 30 or at level 40. The three metrics we will be comparing between the two gate points are: the total number of rounds that the user played and whether they have returned to the game one or seven days after the original installation."
   ]
  },
  {
   "cell_type": "markdown",
   "metadata": {},
   "source": [
    "#### Data and Exploratory Analysis"
   ]
  },
  {
   "cell_type": "code",
   "execution_count": 1,
   "metadata": {},
   "outputs": [],
   "source": [
    "#Import important packages\n",
    "import numpy as np\n",
    "import pandas as pd\n",
    "import scipy.stats as stats\n",
    "import matplotlib.pyplot as plt"
   ]
  },
  {
   "cell_type": "markdown",
   "metadata": {},
   "source": [
    "Once the data was loaded from .csv format it was inspected to determine if cleaning up needs to be done prior to the analysis. There are 90189 unique users and 5 categories of data for each user. The categories (columns) that are included are:\n",
    "* userid: The unique user ID number\n",
    "* version: Which level the content gate was placed at  \n",
    "    * gate_30: The users who were content gated at level 30\n",
    "    * gate_40: The users who were content gated at level 40\n",
    "* sum_gamerounds: The total number of rounds the user has played.\n",
    "* retention_1: Whether or not the user returned to the game 1 day after installation. \n",
    "* retention_7: Whether or not the user returned to the game 7 days after installation. "
   ]
  },
  {
   "cell_type": "code",
   "execution_count": 2,
   "metadata": {},
   "outputs": [
    {
     "data": {
      "text/html": [
       "<div>\n",
       "<style scoped>\n",
       "    .dataframe tbody tr th:only-of-type {\n",
       "        vertical-align: middle;\n",
       "    }\n",
       "\n",
       "    .dataframe tbody tr th {\n",
       "        vertical-align: top;\n",
       "    }\n",
       "\n",
       "    .dataframe thead th {\n",
       "        text-align: right;\n",
       "    }\n",
       "</style>\n",
       "<table border=\"1\" class=\"dataframe\">\n",
       "  <thead>\n",
       "    <tr style=\"text-align: right;\">\n",
       "      <th></th>\n",
       "      <th>userid</th>\n",
       "      <th>version</th>\n",
       "      <th>sum_gamerounds</th>\n",
       "      <th>retention_1</th>\n",
       "      <th>retention_7</th>\n",
       "    </tr>\n",
       "  </thead>\n",
       "  <tbody>\n",
       "    <tr>\n",
       "      <th>0</th>\n",
       "      <td>116</td>\n",
       "      <td>gate_30</td>\n",
       "      <td>3</td>\n",
       "      <td>False</td>\n",
       "      <td>False</td>\n",
       "    </tr>\n",
       "    <tr>\n",
       "      <th>1</th>\n",
       "      <td>337</td>\n",
       "      <td>gate_30</td>\n",
       "      <td>38</td>\n",
       "      <td>True</td>\n",
       "      <td>False</td>\n",
       "    </tr>\n",
       "    <tr>\n",
       "      <th>2</th>\n",
       "      <td>377</td>\n",
       "      <td>gate_40</td>\n",
       "      <td>165</td>\n",
       "      <td>True</td>\n",
       "      <td>False</td>\n",
       "    </tr>\n",
       "    <tr>\n",
       "      <th>3</th>\n",
       "      <td>483</td>\n",
       "      <td>gate_40</td>\n",
       "      <td>1</td>\n",
       "      <td>False</td>\n",
       "      <td>False</td>\n",
       "    </tr>\n",
       "    <tr>\n",
       "      <th>4</th>\n",
       "      <td>488</td>\n",
       "      <td>gate_40</td>\n",
       "      <td>179</td>\n",
       "      <td>True</td>\n",
       "      <td>True</td>\n",
       "    </tr>\n",
       "    <tr>\n",
       "      <th>...</th>\n",
       "      <td>...</td>\n",
       "      <td>...</td>\n",
       "      <td>...</td>\n",
       "      <td>...</td>\n",
       "      <td>...</td>\n",
       "    </tr>\n",
       "    <tr>\n",
       "      <th>90184</th>\n",
       "      <td>9999441</td>\n",
       "      <td>gate_40</td>\n",
       "      <td>97</td>\n",
       "      <td>True</td>\n",
       "      <td>False</td>\n",
       "    </tr>\n",
       "    <tr>\n",
       "      <th>90185</th>\n",
       "      <td>9999479</td>\n",
       "      <td>gate_40</td>\n",
       "      <td>30</td>\n",
       "      <td>False</td>\n",
       "      <td>False</td>\n",
       "    </tr>\n",
       "    <tr>\n",
       "      <th>90186</th>\n",
       "      <td>9999710</td>\n",
       "      <td>gate_30</td>\n",
       "      <td>28</td>\n",
       "      <td>True</td>\n",
       "      <td>False</td>\n",
       "    </tr>\n",
       "    <tr>\n",
       "      <th>90187</th>\n",
       "      <td>9999768</td>\n",
       "      <td>gate_40</td>\n",
       "      <td>51</td>\n",
       "      <td>True</td>\n",
       "      <td>False</td>\n",
       "    </tr>\n",
       "    <tr>\n",
       "      <th>90188</th>\n",
       "      <td>9999861</td>\n",
       "      <td>gate_40</td>\n",
       "      <td>16</td>\n",
       "      <td>False</td>\n",
       "      <td>False</td>\n",
       "    </tr>\n",
       "  </tbody>\n",
       "</table>\n",
       "<p>90189 rows × 5 columns</p>\n",
       "</div>"
      ],
      "text/plain": [
       "        userid  version  sum_gamerounds  retention_1  retention_7\n",
       "0          116  gate_30               3        False        False\n",
       "1          337  gate_30              38         True        False\n",
       "2          377  gate_40             165         True        False\n",
       "3          483  gate_40               1        False        False\n",
       "4          488  gate_40             179         True         True\n",
       "...        ...      ...             ...          ...          ...\n",
       "90184  9999441  gate_40              97         True        False\n",
       "90185  9999479  gate_40              30        False        False\n",
       "90186  9999710  gate_30              28         True        False\n",
       "90187  9999768  gate_40              51         True        False\n",
       "90188  9999861  gate_40              16        False        False\n",
       "\n",
       "[90189 rows x 5 columns]"
      ]
     },
     "execution_count": 2,
     "metadata": {},
     "output_type": "execute_result"
    }
   ],
   "source": [
    "# Load data from the .csv into a pandas data frame.\n",
    "ccats = pd.read_csv('cookie_cats.csv')\n",
    "ccats"
   ]
  },
  {
   "cell_type": "markdown",
   "metadata": {},
   "source": [
    "The data was checked for null or missing values to ensure that no errors would occur later on and to check for completeness of the source data. "
   ]
  },
  {
   "cell_type": "code",
   "execution_count": 3,
   "metadata": {},
   "outputs": [
    {
     "data": {
      "text/plain": [
       "userid            0\n",
       "version           0\n",
       "sum_gamerounds    0\n",
       "retention_1       0\n",
       "retention_7       0\n",
       "dtype: int64"
      ]
     },
     "execution_count": 3,
     "metadata": {},
     "output_type": "execute_result"
    }
   ],
   "source": [
    "#Check data set for missing or null values\n",
    "ccats.isna().sum()"
   ]
  },
  {
   "cell_type": "markdown",
   "metadata": {},
   "source": [
    "The range of the game rounds was then checked to ensure that it was consistent and that there were no outliers. There was in fact one record with 50,000 game rounds recorded that was a clear outlier. It was removed so that it would not skew the rest of the data. Once that was done the range was much more consistent and very visually similar between both level gates."
   ]
  },
  {
   "cell_type": "code",
   "execution_count": 4,
   "metadata": {},
   "outputs": [
    {
     "data": {
      "text/plain": [
       "<matplotlib.collections.PathCollection at 0x1e28dfeaaf0>"
      ]
     },
     "execution_count": 4,
     "metadata": {},
     "output_type": "execute_result"
    },
    {
     "data": {
      "image/png": "[encoded data removed]",
      "text/plain": [
       "<Figure size 864x360 with 1 Axes>"
      ]
     },
     "metadata": {
      "needs_background": "light"
     },
     "output_type": "display_data"
    }
   ],
   "source": [
    "# Plot the sum_gameround distribution ofr each version\n",
    "plt.figure(figsize = (12,5))\n",
    "plt.scatter(x = ccats['version'], y = ccats['sum_gamerounds'])"
   ]
  },
  {
   "cell_type": "code",
   "execution_count": 5,
   "metadata": {},
   "outputs": [],
   "source": [
    "# Remove all records with more than 10,000 total game rounds\n",
    "ccats = ccats[ccats.sum_gamerounds < 10000]"
   ]
  },
  {
   "cell_type": "code",
   "execution_count": 6,
   "metadata": {},
   "outputs": [
    {
     "data": {
      "text/plain": [
       "<matplotlib.collections.PathCollection at 0x1e28e315df0>"
      ]
     },
     "execution_count": 6,
     "metadata": {},
     "output_type": "execute_result"
    },
    {
     "data": {
      "image/png": "[encoded data removed]",
      "text/plain": [
       "<Figure size 864x360 with 1 Axes>"
      ]
     },
     "metadata": {
      "needs_background": "light"
     },
     "output_type": "display_data"
    }
   ],
   "source": [
    "# Plot the sum_gameround distribution ofr each version\n",
    "plt.figure(figsize = (12,5))\n",
    "plt.scatter(x = ccats['version'], y = ccats['sum_gamerounds'])"
   ]
  },
  {
   "cell_type": "markdown",
   "metadata": {},
   "source": [
    "The distribution of the number of game rounds played was also plotted to get a more detailed look at how this metric differed from on scenario to the next. A log y-axis was used to show this distribution more clearly. There was very little divergence between the two gates until you reached the upper limits of the games rounds played. This makes sense as it is less likely for users to reach those totals and therefore more divergence is expected because those events occur less often. "
   ]
  },
  {
   "cell_type": "code",
   "execution_count": 7,
   "metadata": {},
   "outputs": [
    {
     "data": {
      "image/png": "[encoded data removed]",
      "text/plain": [
       "<Figure size 864x360 with 1 Axes>"
      ]
     },
     "metadata": {
      "needs_background": "light"
     },
     "output_type": "display_data"
    }
   ],
   "source": [
    "plt.figure(figsize = (12,5))\n",
    "numBins = np.linspace(1, 3000, 100)\n",
    "plt.hist(ccats['sum_gamerounds'].where(ccats['version'] == 'gate_30'), numBins, label = 'Gate 30')\n",
    "plt.hist(ccats['sum_gamerounds'].where(ccats['version'] == 'gate_40'), numBins, label = 'Gate 40', alpha = 0.6)\n",
    "plt.title('Histogram Comparison')\n",
    "plt.ylabel('Counts (log)')\n",
    "plt.xlabel('Total Game Rounds Played')\n",
    "plt.yscale('log')\n",
    "plt.legend()\n",
    "plt.show()"
   ]
  },
  {
   "cell_type": "markdown",
   "metadata": {},
   "source": [
    "A visual inspection of the retention columns was then conducted for two purposes. The first was to ensure that there was not a class imbalance between the two version types at all retention levels. The second was to see if there were any obvious differences between the 4 classes of users that could be used to double check the numeric analysis that will follow later in this project. "
   ]
  },
  {
   "cell_type": "code",
   "execution_count": 8,
   "metadata": {},
   "outputs": [],
   "source": [
    "# Creating variables for number of users in each of the 4 categories\n",
    "\n",
    "# Number of users in version: gate_30 who returned after 1 day\n",
    "thirtyOneT = len(ccats.loc[(ccats['version'] == 'gate_30') & (ccats['retention_1'] == True)])\n",
    "# Number of users in version: gate_40 who returned after 1 day\n",
    "fortyOneT = len(ccats.loc[(ccats['version'] == 'gate_40') & (ccats['retention_1'] == True)])\n",
    "# Number of users in version: gate_30 who did not return after 1 day\n",
    "thirtyOneF = len(ccats.loc[(ccats['version'] == 'gate_30') & (ccats['retention_1'] == False)])\n",
    "# Number of users in version: gate_40 who did not return after 1 day\n",
    "fortyOneF = len(ccats.loc[(ccats['version'] == 'gate_40') & (ccats['retention_1'] == False)])\n",
    "\n",
    "# Number of users in version: gate_30 who returned after 7 days\n",
    "thirtySevenT = len(ccats.loc[(ccats['version'] == 'gate_30') & (ccats['retention_7'] == True)])\n",
    "# Number of users in version: gate_40 who returned after 7 days\n",
    "fortySevenT = len(ccats.loc[(ccats['version'] == 'gate_40') & (ccats['retention_7'] == True)])\n",
    "# Number of users in version: gate_30 who did not return after 7 days\n",
    "thirtySevenF = len(ccats.loc[(ccats['version'] == 'gate_30') & (ccats['retention_7'] == False)])\n",
    "# Number of users in version: gate_40 who did not return after 7 days\n",
    "fortySevenF = len(ccats.loc[(ccats['version'] == 'gate_40') & (ccats['retention_7'] == False)])"
   ]
  },
  {
   "cell_type": "code",
   "execution_count": 9,
   "metadata": {},
   "outputs": [
    {
     "data": {
      "image/png": "[encoded data removed]",
      "text/plain": [
       "<Figure size 864x360 with 1 Axes>"
      ]
     },
     "metadata": {
      "needs_background": "light"
     },
     "output_type": "display_data"
    }
   ],
   "source": [
    "# Setting up the format variables for the bar graph\n",
    "# Label names\n",
    "labels = ['Gate 30 1 Day', 'Gate 40 1 Day', 'Gate 30 7 Day', 'Gate 40 7 Day']\n",
    "# Array of returned user totals\n",
    "trueGates = [thirtyOneT, fortyOneT, thirtySevenT, fortySevenT]\n",
    "# Array of not returned iser totals\n",
    "falseGates = [thirtyOneF, fortyOneF, thirtySevenF, fortySevenF]\n",
    "# Bar width\n",
    "width = 0.35\n",
    "# Number of labels\n",
    "labelLen = np.arange(len(labels))\n",
    "\n",
    "# Creating the side-by-side bar graph\n",
    "fig, ax = plt.subplots(figsize = (12,5))\n",
    "gate1 = ax.bar(labelLen - width/2, trueGates, width, label = 'Returned')\n",
    "gate2 = ax.bar(labelLen + width/2, falseGates, width, label = 'Not Returned')\n",
    "\n",
    "# Graph elements\n",
    "ax.set_ylabel('Number of Users')\n",
    "ax.set_title('User Comparison Between Level Gates 30 and 40')\n",
    "ax.set_xticks(labelLen)\n",
    "ax.set_xticklabels(labels)\n",
    "ax.legend()\n",
    "\n",
    "plt.show()"
   ]
  },
  {
   "cell_type": "markdown",
   "metadata": {},
   "source": [
    "It is evident from this plot that the classes are evenly divided and that they both follow very similar trends when it comes to user retention and drop off between the one and seven day intervals. From this point we can't make any confident assumptions regarding which content level gate resulted in more retention or more game rounds played. This is where A/B tests truly shine. They can take very marginal differences between the outcomes of two scenarios and determine whether there is a statistically significant difference or not. "
   ]
  },
  {
   "cell_type": "markdown",
   "metadata": {},
   "source": [
    "#### Preliminary Comparisons\n",
    "\n",
    "From the EDA and visual inspection of the plots we can tell that the two scenarios are very similar with consistent distributions and patterns. The three metrics that will be compared to evaluate whether these scenarios are different are:  \n",
    "* Mean game rounds played (sum_gamerounds)\n",
    "* One day retention rate (retention_1)\n",
    "* Seven day retention rate (retention_7) "
   ]
  },
  {
   "cell_type": "code",
   "execution_count": 10,
   "metadata": {},
   "outputs": [
    {
     "name": "stdout",
     "output_type": "stream",
     "text": [
      "The mean game rounds for the level 30 gate vs the level 40 gate is: 51.342 vs. 51.299\n",
      "The 1 day retention rate for the level 30 gate vs the level 40 gate is: 44.82% vs. 44.23%\n",
      "The 7 day retention rate for the level 30 gate vs the level 40 gate is: 19.02% vs. 18.2%\n"
     ]
    }
   ],
   "source": [
    "# Mean game rounds played for each gate\n",
    "meanThirty = ccats.loc[ccats['version'] == 'gate_30', 'sum_gamerounds'].mean()\n",
    "meanForty = ccats.loc[ccats['version'] == 'gate_40', 'sum_gamerounds'].mean()\n",
    "\n",
    "# Retention rates for (gate30 ret 1), (gate40 ret 1), (gate30 ret 7), (gate40 ret 7)\n",
    "totalThirty = len(ccats.loc[(ccats['version'] == 'gate_30')])\n",
    "totalForty = len(ccats.loc[(ccats['version'] == 'gate_40')])\n",
    "\n",
    "rateThirtyOne = round((thirtyOneT/totalThirty)*100,2)\n",
    "rateThirtySeven = round((thirtySevenT/totalThirty)*100,2)\n",
    "\n",
    "rateFortyOne = round((fortyOneT/totalForty)*100,2)\n",
    "rateFortySeven = round((fortySevenT/totalForty)*100,2)\n",
    "\n",
    "print(f\"The mean game rounds for the level 30 gate vs the level 40 gate is: {round(meanThirty,3)} vs. {round(meanForty,3)}\")\n",
    "print(f\"The 1 day retention rate for the level 30 gate vs the level 40 gate is: {rateThirtyOne}% vs. {rateFortyOne}%\")\n",
    "print(f\"The 7 day retention rate for the level 30 gate vs the level 40 gate is: {rateThirtySeven}% vs. {rateFortySeven}%\")"
   ]
  },
  {
   "cell_type": "markdown",
   "metadata": {},
   "source": [
    "From the direct comparison of the metrics we can make the following declarations:\n",
    "* Mean gamerounds played **decreased** by 0.043 when the first content gate was moved from level 30 to level 40\n",
    "* The one day retention rate **decreased** by 0.59% when the first content gate was moved from level 30 to level 40\n",
    "* The seven day retention rate **decreased** by 0.82% when the first content gate was moved from level 30 to level 40\n",
    "\n",
    "From these results we could make the conclusions that moving the first content gate level was detrimental to the overall product because all three metrics decreased. What we cannot do is say these results are statistically significant, that is to say we cannot say these decreases could not be randomly encountered if no difference existed. "
   ]
  },
  {
   "cell_type": "markdown",
   "metadata": {},
   "source": [
    "#### Statistical Analysis\n",
    "\n",
    "To determine whether the decreases in our metrics are statistically significant a proportion z-test test will be used to test our two hypotheses. This test will take into account both the number of occurrences as well as the total number of observations which will help balance out the inconsistent number of samples in each scenario. Our null hypothesis ($H_0$) for this experiment will be that *the difference between the two scenarios is 0* while the alternative hypothesis ($H_1$) is *the difference between the two  scenarios is not 0*.\n",
    "\n",
    "$$ H_0 : d = 0 \\; \\; \\; \\text{vs}\\; \\; \\; H_1 : d \\neq 0 $$\n",
    "\n",
    "$$H_0: \\; \\; \\text{ The difference between the two scenarios is 0}\\; $$\n",
    "$$H_1: \\; \\; \\text{ The difference between the two scenarios is not 0}\\; $$\n",
    "\n",
    "\n",
    "It is important to note that these tests will not definitively tell us the cause or numeric difference between the scenarios. It will tell us the probability (p-value) that these results would be encountered under random circumstances given our null hypothesis is true (that there are is no difference between the scenarios). It is up to those conducting the experiment to set the threshold at which we will accept that there is a statistically significant (non-random) difference between the results. The standard threshold of 0.05 will be used for this project. \n",
    "\n"
   ]
  },
  {
   "cell_type": "code",
   "execution_count": 11,
   "metadata": {},
   "outputs": [],
   "source": [
    "# Proportion z-test package load\n",
    "from statsmodels.stats.proportion import proportions_ztest"
   ]
  },
  {
   "cell_type": "code",
   "execution_count": 12,
   "metadata": {},
   "outputs": [
    {
     "name": "stdout",
     "output_type": "stream",
     "text": [
      "The p-value for the mean gamerounds between the gate 30 and gate 40 users is: 0.9258417189307235\n"
     ]
    }
   ],
   "source": [
    "# Proportion z-test for the mean gamerounds played\n",
    "meanGates = [meanThirty, meanForty]\n",
    "meanObs =  [totalThirty, totalForty]\n",
    "print(f\"The p-value for the mean gamerounds between the gate 30 and gate 40 users is: {proportions_ztest(meanGates, meanObs)[1]}\")"
   ]
  },
  {
   "cell_type": "markdown",
   "metadata": {},
   "source": [
    "With a p-value of 0.9258 we cannot reject the null hypothesis and therefore cannot conclude that there is a meaningful difference in gamerounds played by the users in both scenarios. There is a 92.58% probability of observing our data given that the difference between the two scenarios is 0. "
   ]
  },
  {
   "cell_type": "code",
   "execution_count": 13,
   "metadata": {},
   "outputs": [
    {
     "name": "stdout",
     "output_type": "stream",
     "text": [
      "The p-value for the one day retention rate between the gate 30 and gate 40 users is: 0.0739207603418346\n"
     ]
    }
   ],
   "source": [
    "# Proportion z-test for one day retention\n",
    "retOneCount = [thirtyOneT, fortyOneT]\n",
    "retOneObs =  [totalThirty, totalForty]\n",
    "print(f\"The p-value for the one day retention rate between the gate 30 and gate 40 users is: {proportions_ztest(retOneCount, retOneObs)[1]}\")"
   ]
  },
  {
   "cell_type": "markdown",
   "metadata": {},
   "source": [
    "With a p-value of 0.0739 we cannot reject the null hypothesis and therefore cannot conclude that there is a meaningful difference in one day retention by the users in both scenarios. There is a 7.39% probability of observing our data given that the difference between the two scenarios is 0. "
   ]
  },
  {
   "cell_type": "code",
   "execution_count": 14,
   "metadata": {},
   "outputs": [
    {
     "name": "stdout",
     "output_type": "stream",
     "text": [
      "The p-value for the seven day retention rate between the gate 30 and gate 40 users is: 0.0015917731773993442\n"
     ]
    }
   ],
   "source": [
    "retSevenCount = [thirtySevenT, fortySevenT]\n",
    "retSevenObs =  [totalThirty, totalForty]\n",
    "print(f\"The p-value for the seven day retention rate between the gate 30 and gate 40 users is: {proportions_ztest(retSevenCount, retSevenObs)[1]}\")"
   ]
  },
  {
   "cell_type": "markdown",
   "metadata": {},
   "source": [
    "With a p-value of 0.0016 we can reject the null hypothesis and therefore we may conclude that there is a meaningful difference in seven day retention by the users in both scenarios. There is a 0.16% probability of observing our data given that the difference between the two scenarios is 0. "
   ]
  },
  {
   "cell_type": "markdown",
   "metadata": {},
   "source": [
    "#### Conclusion\n",
    "\n",
    "There was a 0.043 drop in gamerounds played between the gate 30 group and the gate 40 group. Through a proportional z-test it was determined that the difference between the two scenarios was not statistically different. With the data currently available we cannot say that there was a difference in the one day retention rate.\n",
    "\n",
    "There was a 0.59% drop in one day retention rate between the gate 30 group and the gate 40 group. Through a proportional z-test it was determined that the difference between the two scenarios was not statistically different. With the data currently available we cannot say that there was a difference in the one day retention rate.\n",
    "\n",
    "There was a 0.82% drop in seven day retention rate between the gate 30 group and the gate 40 group. Through a proportional z-test it was determined that the difference between the two scenarios was statistically different. With the data currently available we can say that there was a significant drop in the seven day retention rate.\n",
    "\n",
    "This experiment was not able to conclude whether shifting the first content level gate from level 30 to level 40 had an affect on the mean gamerounds played or the one day retention rate. It was able to determine that there was a decrease in seven day retention rate of 0.82% that was proven to be statistically significant based on a p-value threshold of 0.05."
   ]
  },
  {
   "cell_type": "markdown",
   "metadata": {},
   "source": [
    "## Case Study 2: AdSmart Questionnaire Advertisement"
   ]
  },
  {
   "cell_type": "markdown",
   "metadata": {},
   "source": [
    "AdSmart is a marketing company who was hired by an online auction marketplace to increase participation in their customer satisfaction questionnaire. AdSmart created a creative and interactive ad to promote this questionnaire. The focus points of this dataset are the experiment group, exposed or control, and whether or not they interacted with the questionnaire (yes or no). There is also a number of other metrics included that can be used to pinpoint whether the AdSmart ads were performing better in some environments versus others. "
   ]
  },
  {
   "cell_type": "markdown",
   "metadata": {},
   "source": [
    "#### Exploratory Data Analysis and Data Cleaning"
   ]
  },
  {
   "cell_type": "markdown",
   "metadata": {},
   "source": [
    "Once the data was loaded from .csv format it was inspected to determine if cleaning up needs to be done prior to the analysis. There are 8077 unique ids and 9 categories of data for each id. The categories (columns) that are included are:\n",
    "* auction_id: the unique id of the user who has seen an opportunity to participate in the questionnaire\n",
    "* experiment: In what form the opportunity to participate in the questionnaire\n",
    "    * control: shown a generic dummy ad\n",
    "    * exposed: shown the create and interactive AdSmart ad\n",
    "* date: the date the user was presented the questionnaire.\n",
    "* hour: in what hour the user was presented the questionnaire.\n",
    "* device_make: the model of the device the ad was viewed on.\n",
    "* platform_os: the id of the operating system the user has.\n",
    "* browser: what browser was used to see the ad.\n",
    "* yes: 1 if the user agreed to participate in the questionnaire.\n",
    "* no: 1 if the user declined to participate in the questionnaire.\n",
    "    * *if the user completely ignored the questionnaire both the yes and no columns will be 0*"
   ]
  },
  {
   "cell_type": "code",
   "execution_count": 135,
   "metadata": {},
   "outputs": [
    {
     "data": {
      "text/html": [
       "<div>\n",
       "<style scoped>\n",
       "    .dataframe tbody tr th:only-of-type {\n",
       "        vertical-align: middle;\n",
       "    }\n",
       "\n",
       "    .dataframe tbody tr th {\n",
       "        vertical-align: top;\n",
       "    }\n",
       "\n",
       "    .dataframe thead th {\n",
       "        text-align: right;\n",
       "    }\n",
       "</style>\n",
       "<table border=\"1\" class=\"dataframe\">\n",
       "  <thead>\n",
       "    <tr style=\"text-align: right;\">\n",
       "      <th></th>\n",
       "      <th>auction_id</th>\n",
       "      <th>experiment</th>\n",
       "      <th>date</th>\n",
       "      <th>hour</th>\n",
       "      <th>device_make</th>\n",
       "      <th>platform_os</th>\n",
       "      <th>browser</th>\n",
       "      <th>yes</th>\n",
       "      <th>no</th>\n",
       "    </tr>\n",
       "  </thead>\n",
       "  <tbody>\n",
       "    <tr>\n",
       "      <th>0</th>\n",
       "      <td>0008ef63-77a7-448b-bd1e-075f42c55e39</td>\n",
       "      <td>exposed</td>\n",
       "      <td>2020-07-10</td>\n",
       "      <td>8</td>\n",
       "      <td>Generic Smartphone</td>\n",
       "      <td>6</td>\n",
       "      <td>Chrome Mobile</td>\n",
       "      <td>0</td>\n",
       "      <td>0</td>\n",
       "    </tr>\n",
       "    <tr>\n",
       "      <th>1</th>\n",
       "      <td>000eabc5-17ce-4137-8efe-44734d914446</td>\n",
       "      <td>exposed</td>\n",
       "      <td>2020-07-07</td>\n",
       "      <td>10</td>\n",
       "      <td>Generic Smartphone</td>\n",
       "      <td>6</td>\n",
       "      <td>Chrome Mobile</td>\n",
       "      <td>0</td>\n",
       "      <td>0</td>\n",
       "    </tr>\n",
       "    <tr>\n",
       "      <th>2</th>\n",
       "      <td>0016d14a-ae18-4a02-a204-6ba53b52f2ed</td>\n",
       "      <td>exposed</td>\n",
       "      <td>2020-07-05</td>\n",
       "      <td>2</td>\n",
       "      <td>E5823</td>\n",
       "      <td>6</td>\n",
       "      <td>Chrome</td>\n",
       "      <td>0</td>\n",
       "      <td>1</td>\n",
       "    </tr>\n",
       "    <tr>\n",
       "      <th>3</th>\n",
       "      <td>00187412-2932-4542-a8ef-3633901c98d9</td>\n",
       "      <td>control</td>\n",
       "      <td>2020-07-03</td>\n",
       "      <td>15</td>\n",
       "      <td>Samsung SM-A705FN</td>\n",
       "      <td>6</td>\n",
       "      <td>Facebook</td>\n",
       "      <td>0</td>\n",
       "      <td>0</td>\n",
       "    </tr>\n",
       "    <tr>\n",
       "      <th>4</th>\n",
       "      <td>001a7785-d3fe-4e11-a344-c8735acacc2c</td>\n",
       "      <td>control</td>\n",
       "      <td>2020-07-03</td>\n",
       "      <td>15</td>\n",
       "      <td>Generic Smartphone</td>\n",
       "      <td>6</td>\n",
       "      <td>Chrome Mobile</td>\n",
       "      <td>0</td>\n",
       "      <td>0</td>\n",
       "    </tr>\n",
       "    <tr>\n",
       "      <th>...</th>\n",
       "      <td>...</td>\n",
       "      <td>...</td>\n",
       "      <td>...</td>\n",
       "      <td>...</td>\n",
       "      <td>...</td>\n",
       "      <td>...</td>\n",
       "      <td>...</td>\n",
       "      <td>...</td>\n",
       "      <td>...</td>\n",
       "    </tr>\n",
       "    <tr>\n",
       "      <th>8072</th>\n",
       "      <td>ffea24ec-cec1-43fb-b1d1-8f93828c2be2</td>\n",
       "      <td>exposed</td>\n",
       "      <td>2020-07-05</td>\n",
       "      <td>7</td>\n",
       "      <td>Generic Smartphone</td>\n",
       "      <td>6</td>\n",
       "      <td>Chrome Mobile</td>\n",
       "      <td>0</td>\n",
       "      <td>0</td>\n",
       "    </tr>\n",
       "    <tr>\n",
       "      <th>8073</th>\n",
       "      <td>ffea3210-2c3e-426f-a77d-0aa72e73b20f</td>\n",
       "      <td>control</td>\n",
       "      <td>2020-07-03</td>\n",
       "      <td>15</td>\n",
       "      <td>Generic Smartphone</td>\n",
       "      <td>6</td>\n",
       "      <td>Chrome Mobile</td>\n",
       "      <td>0</td>\n",
       "      <td>0</td>\n",
       "    </tr>\n",
       "    <tr>\n",
       "      <th>8074</th>\n",
       "      <td>ffeaa0f1-1d72-4ba9-afb4-314b3b00a7c7</td>\n",
       "      <td>control</td>\n",
       "      <td>2020-07-04</td>\n",
       "      <td>9</td>\n",
       "      <td>Generic Smartphone</td>\n",
       "      <td>6</td>\n",
       "      <td>Chrome Mobile</td>\n",
       "      <td>0</td>\n",
       "      <td>0</td>\n",
       "    </tr>\n",
       "    <tr>\n",
       "      <th>8075</th>\n",
       "      <td>ffeeed62-3f7c-4a6e-8ba7-95d303d40969</td>\n",
       "      <td>exposed</td>\n",
       "      <td>2020-07-05</td>\n",
       "      <td>15</td>\n",
       "      <td>Samsung SM-A515F</td>\n",
       "      <td>6</td>\n",
       "      <td>Samsung Internet</td>\n",
       "      <td>0</td>\n",
       "      <td>0</td>\n",
       "    </tr>\n",
       "    <tr>\n",
       "      <th>8076</th>\n",
       "      <td>fffbb9ff-568a-41a5-a0c3-6866592f80d8</td>\n",
       "      <td>control</td>\n",
       "      <td>2020-07-10</td>\n",
       "      <td>14</td>\n",
       "      <td>Samsung SM-G960F</td>\n",
       "      <td>6</td>\n",
       "      <td>Facebook</td>\n",
       "      <td>0</td>\n",
       "      <td>0</td>\n",
       "    </tr>\n",
       "  </tbody>\n",
       "</table>\n",
       "<p>8077 rows × 9 columns</p>\n",
       "</div>"
      ],
      "text/plain": [
       "                                auction_id experiment        date  hour  \\\n",
       "0     0008ef63-77a7-448b-bd1e-075f42c55e39    exposed  2020-07-10     8   \n",
       "1     000eabc5-17ce-4137-8efe-44734d914446    exposed  2020-07-07    10   \n",
       "2     0016d14a-ae18-4a02-a204-6ba53b52f2ed    exposed  2020-07-05     2   \n",
       "3     00187412-2932-4542-a8ef-3633901c98d9    control  2020-07-03    15   \n",
       "4     001a7785-d3fe-4e11-a344-c8735acacc2c    control  2020-07-03    15   \n",
       "...                                    ...        ...         ...   ...   \n",
       "8072  ffea24ec-cec1-43fb-b1d1-8f93828c2be2    exposed  2020-07-05     7   \n",
       "8073  ffea3210-2c3e-426f-a77d-0aa72e73b20f    control  2020-07-03    15   \n",
       "8074  ffeaa0f1-1d72-4ba9-afb4-314b3b00a7c7    control  2020-07-04     9   \n",
       "8075  ffeeed62-3f7c-4a6e-8ba7-95d303d40969    exposed  2020-07-05    15   \n",
       "8076  fffbb9ff-568a-41a5-a0c3-6866592f80d8    control  2020-07-10    14   \n",
       "\n",
       "             device_make  platform_os           browser  yes  no  \n",
       "0     Generic Smartphone            6     Chrome Mobile    0   0  \n",
       "1     Generic Smartphone            6     Chrome Mobile    0   0  \n",
       "2                  E5823            6            Chrome    0   1  \n",
       "3      Samsung SM-A705FN            6          Facebook    0   0  \n",
       "4     Generic Smartphone            6     Chrome Mobile    0   0  \n",
       "...                  ...          ...               ...  ...  ..  \n",
       "8072  Generic Smartphone            6     Chrome Mobile    0   0  \n",
       "8073  Generic Smartphone            6     Chrome Mobile    0   0  \n",
       "8074  Generic Smartphone            6     Chrome Mobile    0   0  \n",
       "8075    Samsung SM-A515F            6  Samsung Internet    0   0  \n",
       "8076    Samsung SM-G960F            6          Facebook    0   0  \n",
       "\n",
       "[8077 rows x 9 columns]"
      ]
     },
     "execution_count": 135,
     "metadata": {},
     "output_type": "execute_result"
    }
   ],
   "source": [
    "# Load and display the original dataset\n",
    "adSmart = pd.read_csv('AdSmartABdata - AdSmartABdata.csv')\n",
    "adSmart"
   ]
  },
  {
   "cell_type": "markdown",
   "metadata": {},
   "source": [
    "To begin the clean up of the base data the main metrics need to be scrutinized to make sure they can be used for the A/B testing. \n",
    "\n",
    "The 'experiment' column is binary and shows which of the two scenarios the user was presented with. No changes need to be made for this metric.\n",
    "\n",
    "Having both 'yes' and 'no' columns is redundant as we are only interested in whether the ads were effective at increasing participation and not how they were interacted with. Simply dropping the 'no' column will result in a binary metric that indicates whether the questionnaire was taken or not. It will also be renamed to reflect these changes."
   ]
  },
  {
   "cell_type": "code",
   "execution_count": 136,
   "metadata": {},
   "outputs": [
    {
     "name": "stdout",
     "output_type": "stream",
     "text": [
      "There were 572 users that participated in the questionaire.\n",
      "There were 7505 users that did not participated in the questionaire.\n"
     ]
    }
   ],
   "source": [
    "# Drop the 'no' column from the dataset\n",
    "adSmart.drop(['no'], axis = 1, inplace = True)\n",
    "\n",
    "# Rename the 'yes' column to 'questionnaire'\n",
    "adSmart.rename(columns= {'yes': 'questionaire'}, inplace = True)\n",
    "\n",
    "# Print the number of users that did and did not participate in the questionnaire\n",
    "print(f\"There were {adSmart.questionaire.value_counts()[1]} users that participated in the questionaire.\")\n",
    "print(f\"There were {adSmart.questionaire.value_counts()[0]} users that did not participated in the questionaire.\")"
   ]
  },
  {
   "cell_type": "code",
   "execution_count": 137,
   "metadata": {},
   "outputs": [
    {
     "name": "stdout",
     "output_type": "stream",
     "text": [
      "There were 572 users that participated in the questionaire.\n",
      "There were 7505 users that did not participated in the questionaire.\n"
     ]
    }
   ],
   "source": [
    "print(f\"There were {adSmart.questionaire.value_counts()[1]} users that participated in the questionaire.\")\n",
    "print(f\"There were {adSmart.questionaire.value_counts()[0]} users that did not participated in the questionaire.\")"
   ]
  },
  {
   "cell_type": "markdown",
   "metadata": {},
   "source": [
    "The browser metric can easily be distilled into three broader categories: Mobile, Desktop, and Application. Doing so will create another set of scenarios to test the effectiveness of the AdSmart ad. "
   ]
  },
  {
   "cell_type": "code",
   "execution_count": 138,
   "metadata": {},
   "outputs": [
    {
     "data": {
      "text/plain": [
       "Chrome Mobile                 4554\n",
       "Chrome                        1492\n",
       "Samsung Internet               824\n",
       "Facebook                       764\n",
       "Mobile Safari                  337\n",
       "Chrome Mobile iOS               51\n",
       "Mobile Safari UI/WKWebView      44\n",
       "Opera Mobile                     3\n",
       "Pinterest                        3\n",
       "Opera Mini                       1\n",
       "Firefox Mobile                   1\n",
       "Puffin                           1\n",
       "Android                          1\n",
       "Edge Mobile                      1\n",
       "Name: browser, dtype: int64"
      ]
     },
     "execution_count": 138,
     "metadata": {},
     "output_type": "execute_result"
    }
   ],
   "source": [
    "# List the unique browser classes and their counts\n",
    "adSmart.browser.value_counts()"
   ]
  },
  {
   "cell_type": "code",
   "execution_count": 139,
   "metadata": {},
   "outputs": [],
   "source": [
    "# Combine the mobile browser entries into a single Mobile category\n",
    "adSmart.browser.replace(['Chrome Mobile',\n",
    "                         'Samsung Internet',\n",
    "                         'Mobile Safari',\n",
    "                         'Chrome Mobile iOS',\n",
    "                         'Mobile Safari UI/WKWebView',\n",
    "                         'Opera Mobile',\n",
    "                         'Firefox Mobile',\n",
    "                         'Android',\n",
    "                         'Edge Mobile',\n",
    "                         'Puffin'],'Mobile', inplace = True)\n",
    "\n",
    "# Combine the desktop browser entries into a single Desktop category\n",
    "adSmart.browser.replace(['Chrome',\n",
    "                         'Opera Mini'],'Desktop', inplace = True)\n",
    "\n",
    "# Combine the application browser entries into a single Application category\n",
    "adSmart.browser.replace(['Facebook',\n",
    "                         'Pinterest'],'Application', inplace = True)"
   ]
  },
  {
   "cell_type": "code",
   "execution_count": 140,
   "metadata": {},
   "outputs": [
    {
     "data": {
      "text/plain": [
       "Mobile         5817\n",
       "Desktop        1493\n",
       "Application     767\n",
       "Name: browser, dtype: int64"
      ]
     },
     "execution_count": 140,
     "metadata": {},
     "output_type": "execute_result"
    }
   ],
   "source": [
    "adSmart.browser.value_counts()"
   ]
  },
  {
   "cell_type": "markdown",
   "metadata": {},
   "source": [
    "The hour metric will be processed in a similar manner. The hours will be recategorized into Morning (0500 - 1200), Evening (1300 - 1800), and Night (1900 - 0400). This will create another set of scenarios in which to test the effectiveness of the AdSmart ad. "
   ]
  },
  {
   "cell_type": "code",
   "execution_count": 141,
   "metadata": {},
   "outputs": [
    {
     "data": {
      "image/png": "[encoded data removed]",
      "text/plain": [
       "<Figure size 864x360 with 1 Axes>"
      ]
     },
     "metadata": {
      "needs_background": "light"
     },
     "output_type": "display_data"
    }
   ],
   "source": [
    "xtix = np.arange(0,24)\n",
    "plt.figure(figsize = (12,5))\n",
    "plt.hist(adSmart['hour'], edgecolor='black', bins = 23)\n",
    "plt.xlabel('Hour')\n",
    "plt.ylabel('Count')\n",
    "plt.title('Auctions by Hour')\n",
    "plt.xticks(xtix)\n",
    "plt.show()"
   ]
  },
  {
   "cell_type": "code",
   "execution_count": 142,
   "metadata": {},
   "outputs": [],
   "source": [
    "adSmart.hour.replace([5, 6, 7, 8, 9, 10, 11, 12],'Morning', inplace = True)\n",
    "adSmart.hour.replace([13, 14, 15, 16, 17, 18],'Evening', inplace = True)\n",
    "adSmart.hour.replace([19, 20, 21, 22, 23, 0, 1, 2, 3, 4],'Night', inplace = True)\n",
    "adSmart.rename(columns= {'hour': 'timeOfDay'}, inplace = True)"
   ]
  },
  {
   "cell_type": "code",
   "execution_count": 143,
   "metadata": {},
   "outputs": [
    {
     "data": {
      "text/plain": [
       "Evening    3375\n",
       "Morning    2646\n",
       "Night      2056\n",
       "Name: timeOfDay, dtype: int64"
      ]
     },
     "execution_count": 143,
     "metadata": {},
     "output_type": "execute_result"
    }
   ],
   "source": [
    "adSmart.timeOfDay.value_counts()"
   ]
  },
  {
   "cell_type": "markdown",
   "metadata": {},
   "source": [
    "To finish up the cleaning process the 'date, 'device_make', and 'platform_os' columns will be dropped as both these columns do not add any useful information. The length of the experiment was only 1 week long which is not long enough to provide multiple entries for the same day of the week therefore the 'date' cannot factor into the analysis. The 'device_make' is far too specific while the 'platform_os' metric is too imbalanced."
   ]
  },
  {
   "cell_type": "code",
   "execution_count": 144,
   "metadata": {},
   "outputs": [
    {
     "data": {
      "text/plain": [
       "Generic Smartphone    4743\n",
       "iPhone                 433\n",
       "Samsung SM-G960F       203\n",
       "Samsung SM-G973F       154\n",
       "Samsung SM-G950F       148\n",
       "                      ... \n",
       "VKY-L09                  1\n",
       "XiaoMi Redmi 8           1\n",
       "Samsung SM-G900V         1\n",
       "Samsung SM-N9750         1\n",
       "Samsung SM-A750GN        1\n",
       "Name: device_make, Length: 269, dtype: int64"
      ]
     },
     "execution_count": 144,
     "metadata": {},
     "output_type": "execute_result"
    }
   ],
   "source": [
    "adSmart.device_make.value_counts()"
   ]
  },
  {
   "cell_type": "code",
   "execution_count": 145,
   "metadata": {},
   "outputs": [
    {
     "data": {
      "text/plain": [
       "6    7648\n",
       "5     428\n",
       "7       1\n",
       "Name: platform_os, dtype: int64"
      ]
     },
     "execution_count": 145,
     "metadata": {},
     "output_type": "execute_result"
    }
   ],
   "source": [
    "adSmart.platform_os.value_counts()"
   ]
  },
  {
   "cell_type": "code",
   "execution_count": 146,
   "metadata": {},
   "outputs": [
    {
     "data": {
      "text/plain": [
       "2020-07-03    2015\n",
       "2020-07-09    1208\n",
       "2020-07-08    1198\n",
       "2020-07-04     903\n",
       "2020-07-10     893\n",
       "2020-07-05     890\n",
       "2020-07-06     490\n",
       "2020-07-07     480\n",
       "Name: date, dtype: int64"
      ]
     },
     "execution_count": 146,
     "metadata": {},
     "output_type": "execute_result"
    }
   ],
   "source": [
    "adSmart.date.value_counts()"
   ]
  },
  {
   "cell_type": "code",
   "execution_count": 147,
   "metadata": {},
   "outputs": [],
   "source": [
    "adSmart.drop(['date', 'device_make', 'platform_os'], axis =1, inplace = True)"
   ]
  },
  {
   "cell_type": "markdown",
   "metadata": {},
   "source": [
    "The dataset is now free of redundant and useless data and it also feature recategorized metrics that will create opportunities to test additional scenarios."
   ]
  },
  {
   "cell_type": "code",
   "execution_count": 148,
   "metadata": {},
   "outputs": [
    {
     "data": {
      "text/html": [
       "<div>\n",
       "<style scoped>\n",
       "    .dataframe tbody tr th:only-of-type {\n",
       "        vertical-align: middle;\n",
       "    }\n",
       "\n",
       "    .dataframe tbody tr th {\n",
       "        vertical-align: top;\n",
       "    }\n",
       "\n",
       "    .dataframe thead th {\n",
       "        text-align: right;\n",
       "    }\n",
       "</style>\n",
       "<table border=\"1\" class=\"dataframe\">\n",
       "  <thead>\n",
       "    <tr style=\"text-align: right;\">\n",
       "      <th></th>\n",
       "      <th>auction_id</th>\n",
       "      <th>experiment</th>\n",
       "      <th>timeOfDay</th>\n",
       "      <th>browser</th>\n",
       "      <th>questionaire</th>\n",
       "    </tr>\n",
       "  </thead>\n",
       "  <tbody>\n",
       "    <tr>\n",
       "      <th>0</th>\n",
       "      <td>0008ef63-77a7-448b-bd1e-075f42c55e39</td>\n",
       "      <td>exposed</td>\n",
       "      <td>Morning</td>\n",
       "      <td>Mobile</td>\n",
       "      <td>0</td>\n",
       "    </tr>\n",
       "    <tr>\n",
       "      <th>1</th>\n",
       "      <td>000eabc5-17ce-4137-8efe-44734d914446</td>\n",
       "      <td>exposed</td>\n",
       "      <td>Morning</td>\n",
       "      <td>Mobile</td>\n",
       "      <td>0</td>\n",
       "    </tr>\n",
       "    <tr>\n",
       "      <th>2</th>\n",
       "      <td>0016d14a-ae18-4a02-a204-6ba53b52f2ed</td>\n",
       "      <td>exposed</td>\n",
       "      <td>Night</td>\n",
       "      <td>Desktop</td>\n",
       "      <td>0</td>\n",
       "    </tr>\n",
       "    <tr>\n",
       "      <th>3</th>\n",
       "      <td>00187412-2932-4542-a8ef-3633901c98d9</td>\n",
       "      <td>control</td>\n",
       "      <td>Evening</td>\n",
       "      <td>Application</td>\n",
       "      <td>0</td>\n",
       "    </tr>\n",
       "    <tr>\n",
       "      <th>4</th>\n",
       "      <td>001a7785-d3fe-4e11-a344-c8735acacc2c</td>\n",
       "      <td>control</td>\n",
       "      <td>Evening</td>\n",
       "      <td>Mobile</td>\n",
       "      <td>0</td>\n",
       "    </tr>\n",
       "    <tr>\n",
       "      <th>...</th>\n",
       "      <td>...</td>\n",
       "      <td>...</td>\n",
       "      <td>...</td>\n",
       "      <td>...</td>\n",
       "      <td>...</td>\n",
       "    </tr>\n",
       "    <tr>\n",
       "      <th>8072</th>\n",
       "      <td>ffea24ec-cec1-43fb-b1d1-8f93828c2be2</td>\n",
       "      <td>exposed</td>\n",
       "      <td>Morning</td>\n",
       "      <td>Mobile</td>\n",
       "      <td>0</td>\n",
       "    </tr>\n",
       "    <tr>\n",
       "      <th>8073</th>\n",
       "      <td>ffea3210-2c3e-426f-a77d-0aa72e73b20f</td>\n",
       "      <td>control</td>\n",
       "      <td>Evening</td>\n",
       "      <td>Mobile</td>\n",
       "      <td>0</td>\n",
       "    </tr>\n",
       "    <tr>\n",
       "      <th>8074</th>\n",
       "      <td>ffeaa0f1-1d72-4ba9-afb4-314b3b00a7c7</td>\n",
       "      <td>control</td>\n",
       "      <td>Morning</td>\n",
       "      <td>Mobile</td>\n",
       "      <td>0</td>\n",
       "    </tr>\n",
       "    <tr>\n",
       "      <th>8075</th>\n",
       "      <td>ffeeed62-3f7c-4a6e-8ba7-95d303d40969</td>\n",
       "      <td>exposed</td>\n",
       "      <td>Evening</td>\n",
       "      <td>Mobile</td>\n",
       "      <td>0</td>\n",
       "    </tr>\n",
       "    <tr>\n",
       "      <th>8076</th>\n",
       "      <td>fffbb9ff-568a-41a5-a0c3-6866592f80d8</td>\n",
       "      <td>control</td>\n",
       "      <td>Evening</td>\n",
       "      <td>Application</td>\n",
       "      <td>0</td>\n",
       "    </tr>\n",
       "  </tbody>\n",
       "</table>\n",
       "<p>8077 rows × 5 columns</p>\n",
       "</div>"
      ],
      "text/plain": [
       "                                auction_id experiment timeOfDay      browser  \\\n",
       "0     0008ef63-77a7-448b-bd1e-075f42c55e39    exposed   Morning       Mobile   \n",
       "1     000eabc5-17ce-4137-8efe-44734d914446    exposed   Morning       Mobile   \n",
       "2     0016d14a-ae18-4a02-a204-6ba53b52f2ed    exposed     Night      Desktop   \n",
       "3     00187412-2932-4542-a8ef-3633901c98d9    control   Evening  Application   \n",
       "4     001a7785-d3fe-4e11-a344-c8735acacc2c    control   Evening       Mobile   \n",
       "...                                    ...        ...       ...          ...   \n",
       "8072  ffea24ec-cec1-43fb-b1d1-8f93828c2be2    exposed   Morning       Mobile   \n",
       "8073  ffea3210-2c3e-426f-a77d-0aa72e73b20f    control   Evening       Mobile   \n",
       "8074  ffeaa0f1-1d72-4ba9-afb4-314b3b00a7c7    control   Morning       Mobile   \n",
       "8075  ffeeed62-3f7c-4a6e-8ba7-95d303d40969    exposed   Evening       Mobile   \n",
       "8076  fffbb9ff-568a-41a5-a0c3-6866592f80d8    control   Evening  Application   \n",
       "\n",
       "      questionaire  \n",
       "0                0  \n",
       "1                0  \n",
       "2                0  \n",
       "3                0  \n",
       "4                0  \n",
       "...            ...  \n",
       "8072             0  \n",
       "8073             0  \n",
       "8074             0  \n",
       "8075             0  \n",
       "8076             0  \n",
       "\n",
       "[8077 rows x 5 columns]"
      ]
     },
     "execution_count": 148,
     "metadata": {},
     "output_type": "execute_result"
    }
   ],
   "source": [
    "adSmart"
   ]
  },
  {
   "cell_type": "markdown",
   "metadata": {},
   "source": [
    "#### Analysis"
   ]
  },
  {
   "cell_type": "markdown",
   "metadata": {},
   "source": [
    "Similar to the process in the first case study, the two outcomes from the different scenarios will be compared and then tested using a proportion z-test to determine whether the difference between the two outcomes are statistically significant."
   ]
  },
  {
   "cell_type": "code",
   "execution_count": 66,
   "metadata": {},
   "outputs": [],
   "source": [
    "controlCount = len(adSmart.loc[((adSmart['questionaire']) == 1) & (adSmart['experiment'] == 'control')])\n",
    "exposedCount = len(adSmart.loc[((adSmart['questionaire']) == 1) & (adSmart['experiment'] == 'exposed')])\n",
    "\n",
    "controlObs = len(adSmart.loc[(adSmart['experiment']) == 'control'])\n",
    "exposedObs = len(adSmart.loc[(adSmart['experiment']) == 'exposed'])"
   ]
  },
  {
   "cell_type": "code",
   "execution_count": 67,
   "metadata": {},
   "outputs": [
    {
     "name": "stdout",
     "output_type": "stream",
     "text": [
      "The participation rate for the control vs the exposed is: 6.48% vs. 7.69%\n"
     ]
    }
   ],
   "source": [
    "rateControl = round((controlCount/controlObs)*100,2)\n",
    "rateExposed = round((exposedCount/exposedObs)*100,2)\n",
    "print(f\"The participation rate for the control vs the exposed is: {rateControl}% vs. {rateExposed}%\")"
   ]
  },
  {
   "cell_type": "code",
   "execution_count": 68,
   "metadata": {},
   "outputs": [
    {
     "name": "stdout",
     "output_type": "stream",
     "text": [
      "The p-value for the one day retention rate for the control and moved users is: 0.035005825968324515\n"
     ]
    }
   ],
   "source": [
    "partCount = [controlCount, exposedCount]\n",
    "partObs =  [controlObs, exposedObs]\n",
    "print(f\"The p-value for the one day retention rate for the control and moved users is: {proportions_ztest(partCount, partObs)[1]}\")"
   ]
  },
  {
   "cell_type": "code",
   "execution_count": 81,
   "metadata": {},
   "outputs": [],
   "source": [
    "morningCount = len(adSmart.loc[((adSmart['questionaire']) == 1) & (adSmart['timeOfDay'] == 'Morning')])\n",
    "eveningCount = len(adSmart.loc[((adSmart['questionaire']) == 1) & (adSmart['timeOfDay'] == 'Evening')])\n",
    "nightCount = len(adSmart.loc[((adSmart['questionaire']) == 1) & (adSmart['timeOfDay'] == 'Night')])\n",
    "\n",
    "morningObs = len(adSmart.loc[(adSmart['timeOfDay']) == 'Morning'])\n",
    "eveningObs = len(adSmart.loc[(adSmart['timeOfDay']) == 'Evening'])\n",
    "nightObs = len(adSmart.loc[(adSmart['timeOfDay']) == 'Night'])"
   ]
  },
  {
   "cell_type": "code",
   "execution_count": 82,
   "metadata": {},
   "outputs": [
    {
     "name": "stdout",
     "output_type": "stream",
     "text": [
      "The participation rate for different times of the day is:\n",
      " 7.07% for the morning\n",
      " 6.76% for the evening\n",
      " 7.64% for the night.\n"
     ]
    }
   ],
   "source": [
    "rateMorning = round((morningCount/morningObs)*100,2)\n",
    "rateEvening = round((eveningCount/eveningObs)*100,2)\n",
    "rateNight = round((nightCount/nightObs)*100,2)\n",
    "print(f\"The participation rate for different times of the day is:\\n {rateMorning}% for the morning\\n {rateEvening}% for the evening\\n {rateNight}% for the night.\")"
   ]
  },
  {
   "cell_type": "code",
   "execution_count": 83,
   "metadata": {},
   "outputs": [
    {
     "data": {
      "text/plain": [
       "(-1.2265307272737305, 0.21999901949494727)"
      ]
     },
     "execution_count": 83,
     "metadata": {},
     "output_type": "execute_result"
    }
   ],
   "source": [
    "partENCount = [eveningCount, nightCount]\n",
    "partENObs =  [eveningObs, nightObs]\n",
    "proportions_ztest(partENCount, partENObs)"
   ]
  },
  {
   "cell_type": "code",
   "execution_count": null,
   "metadata": {},
   "outputs": [],
   "source": [
    "desktopCount = len(adSmart.loc[((adSmart['questionaire']) == 1) & (adSmart['browser'] == 'Desktop')])\n",
    "mobileCount = len(adSmart.loc[((adSmart['questionaire']) == 1) & (adSmart['browser'] == 'Mobile')])\n",
    "appCount = len(adSmart.loc[((adSmart['questionaire']) == 1) & (adSmart['browser'] == 'Application')])\n",
    "\n",
    "desktopObs = len(adSmart.loc[(adSmart['browser']) == 'Desktop'])\n",
    "mobileObs = len(adSmart.loc[(adSmart['browser']) == 'Mobile'])\n",
    "appObs = len(adSmart.loc[(adSmart['browser']) == 'Application'])"
   ]
  },
  {
   "cell_type": "code",
   "execution_count": null,
   "metadata": {},
   "outputs": [],
   "source": [
    "rateDesktop = round((desktopCount/desktopObs)*100,2)\n",
    "rateMobile = round((mobileCount/mobileObs)*100,2)\n",
    "rateApp = round((appCount/appObs)*100,2)\n",
    "print(f\"The participation rate for different times of the day is:\\n {rateDesktop}% on Desktop\\n {rateMobile}% on Mobile\\n {rateApp}% on Applications.\")"
   ]
  },
  {
   "cell_type": "code",
   "execution_count": null,
   "metadata": {},
   "outputs": [],
   "source": [
    "partMACount = [mobileCount, appCount]\n",
    "partMAObs =  [mobileObs, appObs]\n",
    "print(f\"The p-value between mobile and application exposed participation is: {proportions_ztest(partMACount, partMAObs)[1]}\")"
   ]
  },
  {
   "cell_type": "code",
   "execution_count": null,
   "metadata": {},
   "outputs": [],
   "source": [
    "partDACount = [desktopCount, appCount]\n",
    "partDAObs =  [desktopObs, appObs]\n",
    "print(f\"The p-value between desktop and application exposed participation is: {proportions_ztest(partDACount, partDAObs)[1]}\")"
   ]
  },
  {
   "cell_type": "code",
   "execution_count": null,
   "metadata": {},
   "outputs": [],
   "source": [
    "partDMCount = [desktopCount, mobileCount]\n",
    "partDMObs =  [desktopObs, mobileObs]\n",
    "print(f\"The p-value between desktop and mobile exposed participation is: {proportions_ztest(partDMCount, partDMObs)[1]}\")"
   ]
  }
 ],
 "metadata": {
  "kernelspec": {
   "display_name": "Python 3",
   "language": "python",
   "name": "python3"
  },
  "language_info": {
   "codemirror_mode": {
    "name": "ipython",
    "version": 3
   },
   "file_extension": ".py",
   "mimetype": "text/x-python",
   "name": "python",
   "nbconvert_exporter": "python",
   "pygments_lexer": "ipython3",
   "version": "3.8.3"
  }
 },
 "nbformat": 4,
 "nbformat_minor": 4
}
