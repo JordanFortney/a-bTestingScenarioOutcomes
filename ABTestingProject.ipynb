{
 "cells": [
  {
   "cell_type": "markdown",
   "metadata": {},
   "source": [
    "# Evaluating Scenario Outcomes With A/B Testing"
   ]
  },
  {
   "cell_type": "markdown",
   "metadata": {},
   "source": [
    "## Introduction\n",
    "A/B testing is a very common framework for comparing the outcomes of two scenarios and determining whether that comparison is significant and non-random. These could be two brand new scenarios or a new idea that you want to test against your current strategy. A/B testing will not only outright tell you which scenario is better but it will also tell you whether there is a statistical difference between the two.\n",
    "\n",
    "This project will investigate two datasets with different inputs and goals. The subject of the first case study is a mobile game called *Cookie Cats* that looks at retention rate. The second case study that evaluates the effectiveness that an *AdSmart* advertisement has on the participation rate of a questionnaire for an online auction marketplace.\n",
    "***\n",
    "***"
   ]
  },
  {
   "cell_type": "markdown",
   "metadata": {},
   "source": [
    "## Case Study 1: Cookie Cats - Mobile Game"
   ]
  },
  {
   "cell_type": "markdown",
   "metadata": {},
   "source": [
    "Cookie Cats is a classic mobile puzzle game where you must connect three matching icons to get points and progress through the game's puzzles. As puzzles are completed users will gain experience points and level up their accounts which leads to them encountering more difficult puzzles and obtaining larger rewards. At certain levels there are **content gates** that require the user to wait a certain amount of time or make an in-game purchase before being able to continue solving puzzles and leveling up further. Cookie cats wants to test whether there is a difference between one scenario where the first content gate at level 30 and another scenario where the first content gate is at level 40. The metrics used to measure this potential difference are:\n",
    "* total number of game rounds played\n",
    "* retention after one day\n",
    "* retention after seven days\n",
    "\n",
    "The dataset was downloaded from Kaggle: https://www.kaggle.com/yufengsui/mobile-games-ab-testing"
   ]
  },
  {
   "cell_type": "markdown",
   "metadata": {},
   "source": [
    "#### Data and Exploratory Analysis"
   ]
  },
  {
   "cell_type": "code",
   "execution_count": 1,
   "metadata": {},
   "outputs": [],
   "source": [
    "#Import important packages\n",
    "import numpy as np\n",
    "import pandas as pd\n",
    "import scipy.stats as stats\n",
    "import matplotlib.pyplot as plt"
   ]
  },
  {
   "cell_type": "markdown",
   "metadata": {},
   "source": [
    "There are 90189 unique users (rows) and 5 categories (columns) of data for each user. The categories that are included are:\n",
    "* `userid`: The unique user ID number\n",
    "* `version`: Which level the content gate was placed at  \n",
    "    * gate_30: The users who were content gated at level 30\n",
    "    * gate_40: The users who were content gated at level 40\n",
    "* `sum_gamerounds`: The total number of rounds the user has played\n",
    "* `retention_1`: Whether or not the user returned to the game 1 day after installation\n",
    "* `retention_7`: Whether or not the user returned to the game 7 days after installation  \n",
    "\n",
    "Once the data was loaded from .csv format it was inspected to determine if cleaning up needs to be done prior to the analysis."
   ]
  },
  {
   "cell_type": "code",
   "execution_count": 2,
   "metadata": {},
   "outputs": [
    {
     "data": {
      "text/html": [
       "<div>\n",
       "<style scoped>\n",
       "    .dataframe tbody tr th:only-of-type {\n",
       "        vertical-align: middle;\n",
       "    }\n",
       "\n",
       "    .dataframe tbody tr th {\n",
       "        vertical-align: top;\n",
       "    }\n",
       "\n",
       "    .dataframe thead th {\n",
       "        text-align: right;\n",
       "    }\n",
       "</style>\n",
       "<table border=\"1\" class=\"dataframe\">\n",
       "  <thead>\n",
       "    <tr style=\"text-align: right;\">\n",
       "      <th></th>\n",
       "      <th>userid</th>\n",
       "      <th>version</th>\n",
       "      <th>sum_gamerounds</th>\n",
       "      <th>retention_1</th>\n",
       "      <th>retention_7</th>\n",
       "    </tr>\n",
       "  </thead>\n",
       "  <tbody>\n",
       "    <tr>\n",
       "      <th>0</th>\n",
       "      <td>116</td>\n",
       "      <td>gate_30</td>\n",
       "      <td>3</td>\n",
       "      <td>False</td>\n",
       "      <td>False</td>\n",
       "    </tr>\n",
       "    <tr>\n",
       "      <th>1</th>\n",
       "      <td>337</td>\n",
       "      <td>gate_30</td>\n",
       "      <td>38</td>\n",
       "      <td>True</td>\n",
       "      <td>False</td>\n",
       "    </tr>\n",
       "    <tr>\n",
       "      <th>2</th>\n",
       "      <td>377</td>\n",
       "      <td>gate_40</td>\n",
       "      <td>165</td>\n",
       "      <td>True</td>\n",
       "      <td>False</td>\n",
       "    </tr>\n",
       "    <tr>\n",
       "      <th>3</th>\n",
       "      <td>483</td>\n",
       "      <td>gate_40</td>\n",
       "      <td>1</td>\n",
       "      <td>False</td>\n",
       "      <td>False</td>\n",
       "    </tr>\n",
       "    <tr>\n",
       "      <th>4</th>\n",
       "      <td>488</td>\n",
       "      <td>gate_40</td>\n",
       "      <td>179</td>\n",
       "      <td>True</td>\n",
       "      <td>True</td>\n",
       "    </tr>\n",
       "    <tr>\n",
       "      <th>...</th>\n",
       "      <td>...</td>\n",
       "      <td>...</td>\n",
       "      <td>...</td>\n",
       "      <td>...</td>\n",
       "      <td>...</td>\n",
       "    </tr>\n",
       "    <tr>\n",
       "      <th>90184</th>\n",
       "      <td>9999441</td>\n",
       "      <td>gate_40</td>\n",
       "      <td>97</td>\n",
       "      <td>True</td>\n",
       "      <td>False</td>\n",
       "    </tr>\n",
       "    <tr>\n",
       "      <th>90185</th>\n",
       "      <td>9999479</td>\n",
       "      <td>gate_40</td>\n",
       "      <td>30</td>\n",
       "      <td>False</td>\n",
       "      <td>False</td>\n",
       "    </tr>\n",
       "    <tr>\n",
       "      <th>90186</th>\n",
       "      <td>9999710</td>\n",
       "      <td>gate_30</td>\n",
       "      <td>28</td>\n",
       "      <td>True</td>\n",
       "      <td>False</td>\n",
       "    </tr>\n",
       "    <tr>\n",
       "      <th>90187</th>\n",
       "      <td>9999768</td>\n",
       "      <td>gate_40</td>\n",
       "      <td>51</td>\n",
       "      <td>True</td>\n",
       "      <td>False</td>\n",
       "    </tr>\n",
       "    <tr>\n",
       "      <th>90188</th>\n",
       "      <td>9999861</td>\n",
       "      <td>gate_40</td>\n",
       "      <td>16</td>\n",
       "      <td>False</td>\n",
       "      <td>False</td>\n",
       "    </tr>\n",
       "  </tbody>\n",
       "</table>\n",
       "<p>90189 rows × 5 columns</p>\n",
       "</div>"
      ],
      "text/plain": [
       "        userid  version  sum_gamerounds  retention_1  retention_7\n",
       "0          116  gate_30               3        False        False\n",
       "1          337  gate_30              38         True        False\n",
       "2          377  gate_40             165         True        False\n",
       "3          483  gate_40               1        False        False\n",
       "4          488  gate_40             179         True         True\n",
       "...        ...      ...             ...          ...          ...\n",
       "90184  9999441  gate_40              97         True        False\n",
       "90185  9999479  gate_40              30        False        False\n",
       "90186  9999710  gate_30              28         True        False\n",
       "90187  9999768  gate_40              51         True        False\n",
       "90188  9999861  gate_40              16        False        False\n",
       "\n",
       "[90189 rows x 5 columns]"
      ]
     },
     "execution_count": 2,
     "metadata": {},
     "output_type": "execute_result"
    }
   ],
   "source": [
    "# Load data from the .csv into a pandas data frame\n",
    "ccats = pd.read_csv('cookie_cats.csv')\n",
    "ccats"
   ]
  },
  {
   "cell_type": "markdown",
   "metadata": {},
   "source": [
    "All the columns within this dataset are relevant and they are all properly categorized as well as in a suitable format so it does not require any reshaping or a change in it's organization. The data is then checked for null or missing values that could cause errors to occur later on in the analysis. None were found."
   ]
  },
  {
   "cell_type": "code",
   "execution_count": 3,
   "metadata": {},
   "outputs": [
    {
     "data": {
      "text/plain": [
       "userid            0\n",
       "version           0\n",
       "sum_gamerounds    0\n",
       "retention_1       0\n",
       "retention_7       0\n",
       "dtype: int64"
      ]
     },
     "execution_count": 3,
     "metadata": {},
     "output_type": "execute_result"
    }
   ],
   "source": [
    "#Check data set for missing or null values\n",
    "ccats.isna().sum()"
   ]
  },
  {
   "cell_type": "markdown",
   "metadata": {},
   "source": [
    "The range of the `sum_gamerounds` was then checked to ensure that it was consistent and that there were no outliers. There was in fact one record with 50,000 game rounds recorded that was a clear outlier, likely a developer's account that was used for testing. It was removed so that it would not skew the rest of the data. Once that was done the range was much more consistent and visually similar between both scenarios."
   ]
  },
  {
   "cell_type": "code",
   "execution_count": 4,
   "metadata": {},
   "outputs": [
    {
     "data": {
      "text/plain": [
       "<matplotlib.collections.PathCollection at 0x1f4fc5731f0>"
      ]
     },
     "execution_count": 4,
     "metadata": {},
     "output_type": "execute_result"
    },
    {
     "data": {
      "image/png": "[encoded data removed]",
      "text/plain": [
       "<Figure size 864x360 with 1 Axes>"
      ]
     },
     "metadata": {
      "needs_background": "light"
     },
     "output_type": "display_data"
    }
   ],
   "source": [
    "# Plot the sum_gameround distribution ofr each version\n",
    "plt.figure(figsize = (12,5))\n",
    "plt.scatter(x = ccats['version'], y = ccats['sum_gamerounds'])"
   ]
  },
  {
   "cell_type": "code",
   "execution_count": 5,
   "metadata": {},
   "outputs": [],
   "source": [
    "# Remove all records with more than 10,000 total game rounds\n",
    "ccats = ccats[ccats.sum_gamerounds < 10000]"
   ]
  },
  {
   "cell_type": "code",
   "execution_count": 53,
   "metadata": {},
   "outputs": [
    {
     "data": {
      "text/plain": [
       "<matplotlib.collections.PathCollection at 0x1f4ffa850a0>"
      ]
     },
     "execution_count": 53,
     "metadata": {},
     "output_type": "execute_result"
    },
    {
     "data": {
      "image/png": "[encoded data removed]",
      "text/plain": [
       "<Figure size 864x360 with 1 Axes>"
      ]
     },
     "metadata": {
      "needs_background": "light"
     },
     "output_type": "display_data"
    }
   ],
   "source": [
    "# Plot the sum_gameround distribution ofr each version\n",
    "plt.figure(figsize = (12,5))\n",
    "plt.scatter(x = ccats['version'], y = ccats['sum_gamerounds'])"
   ]
  },
  {
   "cell_type": "markdown",
   "metadata": {},
   "source": [
    "The distribution of `sum_gamerounds` was also plotted to get a more detailed look at how this metric differed from one scenario to the next. A log y-axis was used to show this distribution more clearly. There was very little divergence between the two gates until you reached the upper limits of the games rounds played. This makes sense as it is less likely for users to reach those totals and more variance is expected with a smaller sample size. "
   ]
  },
  {
   "cell_type": "code",
   "execution_count": 46,
   "metadata": {},
   "outputs": [
    {
     "data": {
      "image/png": "[encoded data removed]",
      "text/plain": [
       "<Figure size 864x360 with 1 Axes>"
      ]
     },
     "metadata": {
      "needs_background": "light"
     },
     "output_type": "display_data"
    }
   ],
   "source": [
    "# Plotting the histograms of game rounds played for both gate 30  and gate 40\n",
    "plt.figure(figsize = (12,5))\n",
    "numBins = np.linspace(1, 3000, 100)\n",
    "# Gate 30 histogram\n",
    "plt.hist(ccats['sum_gamerounds'].where(ccats['version'] == 'gate_30'), numBins, label = 'Gate 30')\n",
    "# Gate 40 histogram - 60% transparency\n",
    "plt.hist(ccats['sum_gamerounds'].where(ccats['version'] == 'gate_40'), numBins, label = 'Gate 40', alpha = 0.6)\n",
    "# Plot elements\n",
    "plt.title('Histogram Comparison')\n",
    "plt.ylabel('Counts (log)')\n",
    "plt.xlabel('Total Game Rounds Played')\n",
    "plt.yscale('log')\n",
    "plt.xticks(np.arange(0,3001, step = 200))\n",
    "plt.legend()\n",
    "plt.show()"
   ]
  },
  {
   "cell_type": "markdown",
   "metadata": {},
   "source": [
    "A visual inspection of the retention columns was then conducted for two purposes. The first was to ensure that there was not a class imbalance between the two scenarios at any retention level. The second was to see if there were any obvious differences between the 4 metric groups that could be used to double check the numeric analysis that will follow later in this project. "
   ]
  },
  {
   "cell_type": "code",
   "execution_count": 8,
   "metadata": {},
   "outputs": [],
   "source": [
    "# Creating variables for number of users in each of the 4 categories\n",
    "\n",
    "# Number of users in version: gate_30 who returned after 1 day\n",
    "thirtyOneT = len(ccats.loc[(ccats['version'] == 'gate_30') & (ccats['retention_1'] == True)])\n",
    "# Number of users in version: gate_40 who returned after 1 day\n",
    "fortyOneT = len(ccats.loc[(ccats['version'] == 'gate_40') & (ccats['retention_1'] == True)])\n",
    "# Number of users in version: gate_30 who did not return after 1 day\n",
    "thirtyOneF = len(ccats.loc[(ccats['version'] == 'gate_30') & (ccats['retention_1'] == False)])\n",
    "# Number of users in version: gate_40 who did not return after 1 day\n",
    "fortyOneF = len(ccats.loc[(ccats['version'] == 'gate_40') & (ccats['retention_1'] == False)])\n",
    "\n",
    "# Number of users in version: gate_30 who returned after 7 days\n",
    "thirtySevenT = len(ccats.loc[(ccats['version'] == 'gate_30') & (ccats['retention_7'] == True)])\n",
    "# Number of users in version: gate_40 who returned after 7 days\n",
    "fortySevenT = len(ccats.loc[(ccats['version'] == 'gate_40') & (ccats['retention_7'] == True)])\n",
    "# Number of users in version: gate_30 who did not return after 7 days\n",
    "thirtySevenF = len(ccats.loc[(ccats['version'] == 'gate_30') & (ccats['retention_7'] == False)])\n",
    "# Number of users in version: gate_40 who did not return after 7 days\n",
    "fortySevenF = len(ccats.loc[(ccats['version'] == 'gate_40') & (ccats['retention_7'] == False)])"
   ]
  },
  {
   "cell_type": "code",
   "execution_count": 37,
   "metadata": {},
   "outputs": [
    {
     "data": {
      "image/png": "[encoded data removed]",
      "text/plain": [
       "<Figure size 864x360 with 1 Axes>"
      ]
     },
     "metadata": {
      "needs_background": "light"
     },
     "output_type": "display_data"
    }
   ],
   "source": [
    "# Setting up the format variables for the bar graph\n",
    "# Label names\n",
    "labels = ['Gate 30 1 Day', 'Gate 40 1 Day', 'Gate 30 7 Day', 'Gate 40 7 Day']\n",
    "# Array of returned user totals\n",
    "trueGates = [thirtyOneT, fortyOneT, thirtySevenT, fortySevenT]\n",
    "# Array of not returned iser totals\n",
    "falseGates = [thirtyOneF, fortyOneF, thirtySevenF, fortySevenF]\n",
    "# Bar width\n",
    "width = 0.35\n",
    "# Number of labels\n",
    "labelLen = np.arange(len(labels))\n",
    "\n",
    "# Creating the side-by-side bar graph\n",
    "fig, ax = plt.subplots(figsize = (12,5))\n",
    "gate1 = ax.bar(labelLen - width/2, trueGates, width, label = 'Returned')\n",
    "gate2 = ax.bar(labelLen + width/2, falseGates, width, label = 'Not Returned')\n",
    "\n",
    "# Graph elements\n",
    "ax.set_ylabel('Number of Users')\n",
    "ax.set_xlabel('Experiment and Retention Type')\n",
    "ax.set_title('User Comparison Between Level Gates 30 and 40')\n",
    "ax.set_xticks(labelLen)\n",
    "ax.set_xticklabels(labels)\n",
    "ax.legend()\n",
    "\n",
    "plt.show()"
   ]
  },
  {
   "cell_type": "markdown",
   "metadata": {},
   "source": [
    "It is evident from this plot that the dataset is evenly divided between the two scenarios and that they both follow very similar trends when it comes to user retention between the one and seven day intervals. \n",
    "\n",
    "From this point we can't make any confident assumptions regarding which content level gate resulted in more retention or more game rounds played. This is where A/B tests truly shine. They can take very marginal differences between the outcomes of two scenarios and determine whether there is a statistically significant difference or whether we could have encountered these results randomly if there was no difference. "
   ]
  },
  {
   "cell_type": "markdown",
   "metadata": {},
   "source": [
    "#### Preliminary Comparisons\n",
    "\n",
    "From the EDA and visual inspection of the plots above we can tell that the two scenarios are very similar with consistent distributions and patterns. The three metrics that will be compared to evaluate whether these scenarios are different are:  \n",
    "* Mean game rounds played (`sum_gamerounds`)\n",
    "* One day retention rate (`retention_1`)\n",
    "* Seven day retention rate (`retention_7`) \n",
    "\n",
    "The first step is to calculate the differences in each metric between the two scenarios."
   ]
  },
  {
   "cell_type": "code",
   "execution_count": 10,
   "metadata": {},
   "outputs": [
    {
     "name": "stdout",
     "output_type": "stream",
     "text": [
      "The mean game rounds for the level 30 gate vs the level 40 gate is: 51.342 vs. 51.299\n",
      "The 1 day retention rate for the level 30 gate vs the level 40 gate is: 44.82% vs. 44.23%\n",
      "The 7 day retention rate for the level 30 gate vs the level 40 gate is: 19.02% vs. 18.2%\n"
     ]
    }
   ],
   "source": [
    "# Mean game rounds played for each gate\n",
    "meanThirty = ccats.loc[ccats['version'] == 'gate_30', 'sum_gamerounds'].mean()\n",
    "meanForty = ccats.loc[ccats['version'] == 'gate_40', 'sum_gamerounds'].mean()\n",
    "\n",
    "# Retention rates for (gate30 ret 1), (gate40 ret 1), (gate30 ret 7), (gate40 ret 7)\n",
    "totalThirty = len(ccats.loc[(ccats['version'] == 'gate_30')])\n",
    "totalForty = len(ccats.loc[(ccats['version'] == 'gate_40')])\n",
    "\n",
    "rateThirtyOne = round((thirtyOneT/totalThirty)*100,2)\n",
    "rateThirtySeven = round((thirtySevenT/totalThirty)*100,2)\n",
    "\n",
    "rateFortyOne = round((fortyOneT/totalForty)*100,2)\n",
    "rateFortySeven = round((fortySevenT/totalForty)*100,2)\n",
    "\n",
    "print(f\"The mean game rounds for the level 30 gate vs the level 40 gate is: {round(meanThirty,3)} vs. {round(meanForty,3)}\")\n",
    "print(f\"The 1 day retention rate for the level 30 gate vs the level 40 gate is: {rateThirtyOne}% vs. {rateFortyOne}%\")\n",
    "print(f\"The 7 day retention rate for the level 30 gate vs the level 40 gate is: {rateThirtySeven}% vs. {rateFortySeven}%\")"
   ]
  },
  {
   "cell_type": "markdown",
   "metadata": {},
   "source": [
    "From the numerical comparison of the metrics we can make the following declarations:\n",
    "* Mean game rounds played **decreased** by 0.043 when the first content gate was moved from level 30 to level 40\n",
    "* The one day retention rate **decreased** by 0.59% when the first content gate was moved from level 30 to level 40\n",
    "* The seven day retention rate **decreased** by 0.82% when the first content gate was moved from level 30 to level 40\n",
    "\n",
    "From these results we *could* make the conclusion that there was a difference in all three metrics when moving the first content gate level and that it was detrimental to the overall product because all three metrics decreased. What we cannot do is say these results are statistically significant, that is to say we do not know whether these decreases could be randomly encountered if no difference existed. "
   ]
  },
  {
   "cell_type": "markdown",
   "metadata": {},
   "source": [
    "#### Statistical Analysis\n",
    "\n",
    "To determine whether the decreases in our metrics are statistically significant, a proportion z-test test will be used to test our two hypotheses. This test will take into account both the number of occurrences as well as the total number of observations which will help balance out the slight imbalance of samples in each scenario. Our null hypothesis ($H_0$) for this experiment will be: *the difference between the two scenarios is 0*. The alternative hypothesis ($H_1$) will be: *the difference between the two scenarios is not 0*.\n",
    "\n",
    "\n",
    "$$ H_0 : d = 0 \\; \\; \\; \\text{vs}\\; \\; \\; H_1 : d \\neq 0 $$\n",
    "\n",
    "$$H_0: \\; \\; \\text{ The difference between the two scenarios is 0}\\; $$\n",
    "\n",
    "$$H_1: \\; \\; \\text{ The difference between the two scenarios is not 0}\\; $$\n",
    "\n",
    "\n",
    "It is important to note that these tests will not definitively tell us the direct cause of the difference between the scenarios, just whether they are different or not. It will tell us the probability (p-value) that these results would be **encountered under random circumstances given our null hypothesis is true (that there are is no difference between the scenarios)**. It is up to those conducting the experiment to set the threshold at which we will accept that there is a statistically significant (non-random) difference between the results. The standard threshold of 0.05 will be used for this project, our calculated p-values must be below this threshold for them to be considered statistically significant. "
   ]
  },
  {
   "cell_type": "code",
   "execution_count": 11,
   "metadata": {},
   "outputs": [],
   "source": [
    "# Proportion z-test package load\n",
    "from statsmodels.stats.proportion import proportions_ztest"
   ]
  },
  {
   "cell_type": "markdown",
   "metadata": {},
   "source": [
    "##### Game Rounds Played"
   ]
  },
  {
   "cell_type": "code",
   "execution_count": 12,
   "metadata": {},
   "outputs": [
    {
     "name": "stdout",
     "output_type": "stream",
     "text": [
      "The p-value for the mean gamerounds between the gate 30 and gate 40 users is: 0.9258417189307235\n"
     ]
    }
   ],
   "source": [
    "# Proportion z-test for the mean game rounds played\n",
    "meanGates = [meanThirty, meanForty]\n",
    "meanObs =  [totalThirty, totalForty]\n",
    "print(f\"The p-value for the mean gamerounds between the gate 30 and gate 40 users is: {proportions_ztest(meanGates, meanObs)[1]}\")"
   ]
  },
  {
   "cell_type": "markdown",
   "metadata": {},
   "source": [
    "With a p-value of 0.9258 we cannot reject the null hypothesis and therefore cannot conclude that there is a meaningful difference in <font color=yellow>game rounds played</font> by the users in both scenarios. There is a 92.58% probability of randomly observing our data given that the difference between the two scenarios is 0. "
   ]
  },
  {
   "cell_type": "markdown",
   "metadata": {},
   "source": [
    "##### One Day Retention"
   ]
  },
  {
   "cell_type": "code",
   "execution_count": 13,
   "metadata": {},
   "outputs": [
    {
     "name": "stdout",
     "output_type": "stream",
     "text": [
      "The p-value for the one day retention rate between the gate 30 and gate 40 users is: 0.0739207603418346\n"
     ]
    }
   ],
   "source": [
    "# Proportion z-test for one day retention\n",
    "retOneCount = [thirtyOneT, fortyOneT]\n",
    "retOneObs =  [totalThirty, totalForty]\n",
    "print(f\"The p-value for the one day retention rate between the gate 30 and gate 40 users is: {proportions_ztest(retOneCount, retOneObs)[1]}\")"
   ]
  },
  {
   "cell_type": "markdown",
   "metadata": {},
   "source": [
    "With a p-value of 0.0739 we cannot reject the null hypothesis and therefore cannot conclude that there is a meaningful difference in <font color=yellow>one day retention</font> by the users in both scenarios. There is a 7.39% probability of randomly observing our data given that the difference between the two scenarios is 0. "
   ]
  },
  {
   "cell_type": "markdown",
   "metadata": {},
   "source": [
    "##### Seven Day Retention"
   ]
  },
  {
   "cell_type": "code",
   "execution_count": 14,
   "metadata": {},
   "outputs": [
    {
     "name": "stdout",
     "output_type": "stream",
     "text": [
      "The p-value for the seven day retention rate between the gate 30 and gate 40 users is: 0.0015917731773993442\n"
     ]
    }
   ],
   "source": [
    "retSevenCount = [thirtySevenT, fortySevenT]\n",
    "retSevenObs =  [totalThirty, totalForty]\n",
    "print(f\"The p-value for the seven day retention rate between the gate 30 and gate 40 users is: {proportions_ztest(retSevenCount, retSevenObs)[1]}\")"
   ]
  },
  {
   "cell_type": "markdown",
   "metadata": {},
   "source": [
    "With a p-value of 0.0016 we can reject the null hypothesis and therefore we may conclude that there is a meaningful difference in <font color=yellow>seven day retention</font> by the users in both scenarios. There is a 0.16% probability of randomly observing our data given that the difference between the two scenarios is 0. "
   ]
  },
  {
   "cell_type": "markdown",
   "metadata": {},
   "source": [
    "#### Conclusions\n",
    "\n",
    "There was a 0.043 drop in game rounds played between the gate 30 group and the gate 40 group. Through a proportional z-test it was determined that the difference between the two scenarios was not statistically different. <font color=red>**With the data currently available we cannot say that there was a difference in the one day retention rate.**</font>\n",
    "\n",
    "There was a 0.59% drop in one day retention rate between the gate 30 group and the gate 40 group. Through a proportional z-test it was determined that the difference between the two scenarios was not statistically different. <font color=red>**With the data currently available we cannot say that there was a difference in the one day retention rate.**</font>\n",
    "\n",
    "There was a 0.82% drop in seven day retention rate between the gate 30 group and the gate 40 group. Through a proportional z-test it was determined that the difference between the two scenarios was statistically different. <font color=green>**With the data currently available we can say that there was a significant drop in the seven day retention rate.**</font>\n",
    "\n",
    "This experiment was not able to conclude whether shifting the first content level gate from level 30 to level 40 had an affect on the mean game rounds played or the one day retention rate. It was able to determine that there was a decrease in seven day retention rate of 0.82% that was proven to be statistically significant based on a p-value threshold of 0.05. Based on those results this report would suggest that the first content level gate be placed at level 30 to avoid the significant drop in seven day retention.\n",
    "\n",
    "***\n",
    "***"
   ]
  },
  {
   "cell_type": "markdown",
   "metadata": {},
   "source": [
    "## Case Study 2: AdSmart Questionnaire Participation"
   ]
  },
  {
   "cell_type": "markdown",
   "metadata": {},
   "source": [
    "AdSmart is a marketing company who was hired by an online auction marketplace to create an ad that would increase participation in their customer satisfaction questionnaire. AdSmart created a creative and interactive ad to promote this questionnaire and the data resulting from the users who saw that ad and those who saw a generic dummy ad is the subject of the this case study. The focus points of this dataset are the experiment group, exposed or control, and whether or not they interacted with the questionnaire ,yes or no. There is also a number of other metrics included that can be used to pinpoint whether the AdSmart ads were performing better in some environments versus others. \n",
    "\n",
    "This dataset was downloaded from Kaggle: https://www.kaggle.com/osuolaleemmanuel/ad-ab-testing"
   ]
  },
  {
   "cell_type": "markdown",
   "metadata": {},
   "source": [
    "#### Exploratory Data Analysis and Data Cleaning"
   ]
  },
  {
   "cell_type": "markdown",
   "metadata": {},
   "source": [
    "Once the data was loaded from .csv format it was inspected to determine if any cleaning or reorganization was needed prior to the analysis. There are 8077 unique ids (rows) and 9 categories (columns) of data for each id. The categories that are included in the original dataset are:\n",
    "* `auction_id`: the unique id of the user who has seen an opportunity to participate in the questionnaire\n",
    "* `experiment`: In what form the opportunity to participate in the questionnaire\n",
    "    * control: shown a generic dummy ad\n",
    "    * exposed: shown the create and interactive AdSmart ad\n",
    "* `date`: the date the user was presented the questionnaire.\n",
    "* `hour`: in what hour the user was presented the questionnaire.\n",
    "* `device_make`: the model of the device the ad was viewed on.\n",
    "* `platform_os`: the id of the operating system the user has.\n",
    "* `browser`: what browser was used to see the ad.\n",
    "* `yes`: 1 if the user agreed to participate in the questionnaire.\n",
    "* `no`: 1 if the user declined to participate in the questionnaire.\n",
    "    * *if the user completely ignored the questionnaire both the yes and no columns will be 0*"
   ]
  },
  {
   "cell_type": "code",
   "execution_count": 15,
   "metadata": {},
   "outputs": [
    {
     "data": {
      "text/html": [
       "<div>\n",
       "<style scoped>\n",
       "    .dataframe tbody tr th:only-of-type {\n",
       "        vertical-align: middle;\n",
       "    }\n",
       "\n",
       "    .dataframe tbody tr th {\n",
       "        vertical-align: top;\n",
       "    }\n",
       "\n",
       "    .dataframe thead th {\n",
       "        text-align: right;\n",
       "    }\n",
       "</style>\n",
       "<table border=\"1\" class=\"dataframe\">\n",
       "  <thead>\n",
       "    <tr style=\"text-align: right;\">\n",
       "      <th></th>\n",
       "      <th>auction_id</th>\n",
       "      <th>experiment</th>\n",
       "      <th>date</th>\n",
       "      <th>hour</th>\n",
       "      <th>device_make</th>\n",
       "      <th>platform_os</th>\n",
       "      <th>browser</th>\n",
       "      <th>yes</th>\n",
       "      <th>no</th>\n",
       "    </tr>\n",
       "  </thead>\n",
       "  <tbody>\n",
       "    <tr>\n",
       "      <th>0</th>\n",
       "      <td>0008ef63-77a7-448b-bd1e-075f42c55e39</td>\n",
       "      <td>exposed</td>\n",
       "      <td>2020-07-10</td>\n",
       "      <td>8</td>\n",
       "      <td>Generic Smartphone</td>\n",
       "      <td>6</td>\n",
       "      <td>Chrome Mobile</td>\n",
       "      <td>0</td>\n",
       "      <td>0</td>\n",
       "    </tr>\n",
       "    <tr>\n",
       "      <th>1</th>\n",
       "      <td>000eabc5-17ce-4137-8efe-44734d914446</td>\n",
       "      <td>exposed</td>\n",
       "      <td>2020-07-07</td>\n",
       "      <td>10</td>\n",
       "      <td>Generic Smartphone</td>\n",
       "      <td>6</td>\n",
       "      <td>Chrome Mobile</td>\n",
       "      <td>0</td>\n",
       "      <td>0</td>\n",
       "    </tr>\n",
       "    <tr>\n",
       "      <th>2</th>\n",
       "      <td>0016d14a-ae18-4a02-a204-6ba53b52f2ed</td>\n",
       "      <td>exposed</td>\n",
       "      <td>2020-07-05</td>\n",
       "      <td>2</td>\n",
       "      <td>E5823</td>\n",
       "      <td>6</td>\n",
       "      <td>Chrome</td>\n",
       "      <td>0</td>\n",
       "      <td>1</td>\n",
       "    </tr>\n",
       "    <tr>\n",
       "      <th>3</th>\n",
       "      <td>00187412-2932-4542-a8ef-3633901c98d9</td>\n",
       "      <td>control</td>\n",
       "      <td>2020-07-03</td>\n",
       "      <td>15</td>\n",
       "      <td>Samsung SM-A705FN</td>\n",
       "      <td>6</td>\n",
       "      <td>Facebook</td>\n",
       "      <td>0</td>\n",
       "      <td>0</td>\n",
       "    </tr>\n",
       "    <tr>\n",
       "      <th>4</th>\n",
       "      <td>001a7785-d3fe-4e11-a344-c8735acacc2c</td>\n",
       "      <td>control</td>\n",
       "      <td>2020-07-03</td>\n",
       "      <td>15</td>\n",
       "      <td>Generic Smartphone</td>\n",
       "      <td>6</td>\n",
       "      <td>Chrome Mobile</td>\n",
       "      <td>0</td>\n",
       "      <td>0</td>\n",
       "    </tr>\n",
       "    <tr>\n",
       "      <th>...</th>\n",
       "      <td>...</td>\n",
       "      <td>...</td>\n",
       "      <td>...</td>\n",
       "      <td>...</td>\n",
       "      <td>...</td>\n",
       "      <td>...</td>\n",
       "      <td>...</td>\n",
       "      <td>...</td>\n",
       "      <td>...</td>\n",
       "    </tr>\n",
       "    <tr>\n",
       "      <th>8072</th>\n",
       "      <td>ffea24ec-cec1-43fb-b1d1-8f93828c2be2</td>\n",
       "      <td>exposed</td>\n",
       "      <td>2020-07-05</td>\n",
       "      <td>7</td>\n",
       "      <td>Generic Smartphone</td>\n",
       "      <td>6</td>\n",
       "      <td>Chrome Mobile</td>\n",
       "      <td>0</td>\n",
       "      <td>0</td>\n",
       "    </tr>\n",
       "    <tr>\n",
       "      <th>8073</th>\n",
       "      <td>ffea3210-2c3e-426f-a77d-0aa72e73b20f</td>\n",
       "      <td>control</td>\n",
       "      <td>2020-07-03</td>\n",
       "      <td>15</td>\n",
       "      <td>Generic Smartphone</td>\n",
       "      <td>6</td>\n",
       "      <td>Chrome Mobile</td>\n",
       "      <td>0</td>\n",
       "      <td>0</td>\n",
       "    </tr>\n",
       "    <tr>\n",
       "      <th>8074</th>\n",
       "      <td>ffeaa0f1-1d72-4ba9-afb4-314b3b00a7c7</td>\n",
       "      <td>control</td>\n",
       "      <td>2020-07-04</td>\n",
       "      <td>9</td>\n",
       "      <td>Generic Smartphone</td>\n",
       "      <td>6</td>\n",
       "      <td>Chrome Mobile</td>\n",
       "      <td>0</td>\n",
       "      <td>0</td>\n",
       "    </tr>\n",
       "    <tr>\n",
       "      <th>8075</th>\n",
       "      <td>ffeeed62-3f7c-4a6e-8ba7-95d303d40969</td>\n",
       "      <td>exposed</td>\n",
       "      <td>2020-07-05</td>\n",
       "      <td>15</td>\n",
       "      <td>Samsung SM-A515F</td>\n",
       "      <td>6</td>\n",
       "      <td>Samsung Internet</td>\n",
       "      <td>0</td>\n",
       "      <td>0</td>\n",
       "    </tr>\n",
       "    <tr>\n",
       "      <th>8076</th>\n",
       "      <td>fffbb9ff-568a-41a5-a0c3-6866592f80d8</td>\n",
       "      <td>control</td>\n",
       "      <td>2020-07-10</td>\n",
       "      <td>14</td>\n",
       "      <td>Samsung SM-G960F</td>\n",
       "      <td>6</td>\n",
       "      <td>Facebook</td>\n",
       "      <td>0</td>\n",
       "      <td>0</td>\n",
       "    </tr>\n",
       "  </tbody>\n",
       "</table>\n",
       "<p>8077 rows × 9 columns</p>\n",
       "</div>"
      ],
      "text/plain": [
       "                                auction_id experiment        date  hour  \\\n",
       "0     0008ef63-77a7-448b-bd1e-075f42c55e39    exposed  2020-07-10     8   \n",
       "1     000eabc5-17ce-4137-8efe-44734d914446    exposed  2020-07-07    10   \n",
       "2     0016d14a-ae18-4a02-a204-6ba53b52f2ed    exposed  2020-07-05     2   \n",
       "3     00187412-2932-4542-a8ef-3633901c98d9    control  2020-07-03    15   \n",
       "4     001a7785-d3fe-4e11-a344-c8735acacc2c    control  2020-07-03    15   \n",
       "...                                    ...        ...         ...   ...   \n",
       "8072  ffea24ec-cec1-43fb-b1d1-8f93828c2be2    exposed  2020-07-05     7   \n",
       "8073  ffea3210-2c3e-426f-a77d-0aa72e73b20f    control  2020-07-03    15   \n",
       "8074  ffeaa0f1-1d72-4ba9-afb4-314b3b00a7c7    control  2020-07-04     9   \n",
       "8075  ffeeed62-3f7c-4a6e-8ba7-95d303d40969    exposed  2020-07-05    15   \n",
       "8076  fffbb9ff-568a-41a5-a0c3-6866592f80d8    control  2020-07-10    14   \n",
       "\n",
       "             device_make  platform_os           browser  yes  no  \n",
       "0     Generic Smartphone            6     Chrome Mobile    0   0  \n",
       "1     Generic Smartphone            6     Chrome Mobile    0   0  \n",
       "2                  E5823            6            Chrome    0   1  \n",
       "3      Samsung SM-A705FN            6          Facebook    0   0  \n",
       "4     Generic Smartphone            6     Chrome Mobile    0   0  \n",
       "...                  ...          ...               ...  ...  ..  \n",
       "8072  Generic Smartphone            6     Chrome Mobile    0   0  \n",
       "8073  Generic Smartphone            6     Chrome Mobile    0   0  \n",
       "8074  Generic Smartphone            6     Chrome Mobile    0   0  \n",
       "8075    Samsung SM-A515F            6  Samsung Internet    0   0  \n",
       "8076    Samsung SM-G960F            6          Facebook    0   0  \n",
       "\n",
       "[8077 rows x 9 columns]"
      ]
     },
     "execution_count": 15,
     "metadata": {},
     "output_type": "execute_result"
    }
   ],
   "source": [
    "# Load and display the original dataset\n",
    "adSmart = pd.read_csv('AdSmartABdata - AdSmartABdata.csv')\n",
    "adSmart"
   ]
  },
  {
   "cell_type": "markdown",
   "metadata": {},
   "source": [
    "To begin the clean up of the original dataset the main metrics need to be scrutinized to make sure they can be used for the A/B testing. The `experiment` column is binary and shows which of the two scenarios the user was presented with. No changes need to be made for this metric.\n",
    "\n",
    "Having both `yes` and `no` columns is redundant as we are only interested in whether the ads were effective at *increasing participation* and not whether the questionnaire was accepted, declined, or ignored. Simply dropping the `no` column will result in a binary metric that indicates whether the questionnaire was taken or not. The `yes` column will also be renamed to `questionnaire` to reflect this change."
   ]
  },
  {
   "cell_type": "code",
   "execution_count": 16,
   "metadata": {},
   "outputs": [
    {
     "name": "stdout",
     "output_type": "stream",
     "text": [
      "There were 572 users that participated in the questionaire.\n",
      "There were 7505 users that did not participated in the questionaire.\n"
     ]
    }
   ],
   "source": [
    "# Drop the 'no' column from the dataset\n",
    "adSmart.drop(['no'], axis = 1, inplace = True)\n",
    "\n",
    "# Rename the 'yes' column to 'questionnaire'\n",
    "adSmart.rename(columns= {'yes': 'questionaire'}, inplace = True)\n",
    "\n",
    "# Print the number of users that did and did not participate in the questionnaire\n",
    "print(f\"There were {adSmart.questionaire.value_counts()[1]} users that participated in the questionaire.\")\n",
    "print(f\"There were {adSmart.questionaire.value_counts()[0]} users that did not participated in the questionaire.\")"
   ]
  },
  {
   "cell_type": "markdown",
   "metadata": {},
   "source": [
    "Now that the primary metrics are formatted in a suitable manner the secondary metrics will be explored with the goal of creating some additional scenarios in which we can further test the performance of the AdSmart ad. The `browser` column can easily be distilled into three broader categories: Mobile, Desktop, and Application. Doing so will allow us to test whether the ad performed differently on various platforms. The `browser` column will then be renamed to `platform`."
   ]
  },
  {
   "cell_type": "code",
   "execution_count": 54,
   "metadata": {},
   "outputs": [
    {
     "data": {
      "text/plain": [
       "Mobile         5817\n",
       "Desktop        1493\n",
       "Application     767\n",
       "Name: browser, dtype: int64"
      ]
     },
     "execution_count": 54,
     "metadata": {},
     "output_type": "execute_result"
    }
   ],
   "source": [
    "# List the unique browser classes and their counts\n",
    "adSmart.browser.value_counts()"
   ]
  },
  {
   "cell_type": "code",
   "execution_count": 56,
   "metadata": {},
   "outputs": [],
   "source": [
    "# Combine the mobile browser entries into a single Mobile category\n",
    "adSmart.browser.replace(['Chrome Mobile',\n",
    "                         'Samsung Internet',\n",
    "                         'Mobile Safari',\n",
    "                         'Chrome Mobile iOS',\n",
    "                         'Mobile Safari UI/WKWebView',\n",
    "                         'Opera Mobile',\n",
    "                         'Firefox Mobile',\n",
    "                         'Android',\n",
    "                         'Edge Mobile',\n",
    "                         'Puffin'],'Mobile', inplace = True)\n",
    "\n",
    "# Combine the desktop browser entries into a single Desktop category\n",
    "adSmart.browser.replace(['Chrome',\n",
    "                         'Opera Mini'],'Desktop', inplace = True)\n",
    "\n",
    "# Combine the application browser entries into a single Application category\n",
    "adSmart.browser.replace(['Facebook',\n",
    "                         'Pinterest'],'Application', inplace = True)\n",
    "\n",
    "# Rename the browser metric to platform\n",
    "adSmart.rename(columns= {'browser': 'platform'}, inplace = True)"
   ]
  },
  {
   "cell_type": "code",
   "execution_count": 57,
   "metadata": {},
   "outputs": [
    {
     "data": {
      "text/plain": [
       "Mobile         5817\n",
       "Desktop        1493\n",
       "Application     767\n",
       "Name: platform, dtype: int64"
      ]
     },
     "execution_count": 57,
     "metadata": {},
     "output_type": "execute_result"
    }
   ],
   "source": [
    "# Review the category changes for the browser metric\n",
    "adSmart.platform.value_counts()"
   ]
  },
  {
   "cell_type": "markdown",
   "metadata": {},
   "source": [
    "The `hour` column will be processed in a similar manner. The hours will be recategorized into Morning (0500 - 1200), Evening (1300 - 1800), and Night (1900 - 0400). This will create another set of scenarios in which to test the effectiveness of the AdSmart ad. The column will also be renamed to `timeOfDay` to stay in line with the category changes we made."
   ]
  },
  {
   "cell_type": "code",
   "execution_count": 21,
   "metadata": {},
   "outputs": [
    {
     "data": {
      "image/png": "[encoded data removed]",
      "text/plain": [
       "<Figure size 864x360 with 1 Axes>"
      ]
     },
     "metadata": {
      "needs_background": "light"
     },
     "output_type": "display_data"
    }
   ],
   "source": [
    "# Plot a histogram of the hour metric to check the distribution\n",
    "xtix = np.arange(0,24)\n",
    "plt.figure(figsize = (12,5))\n",
    "plt.hist(adSmart['hour'], edgecolor='black', bins = 23)\n",
    "plt.xlabel('Hour')\n",
    "plt.ylabel('Count')\n",
    "plt.title('Auctions by Hour')\n",
    "plt.xticks(xtix)\n",
    "plt.show()"
   ]
  },
  {
   "cell_type": "code",
   "execution_count": 22,
   "metadata": {},
   "outputs": [],
   "source": [
    "# Re-categorize the hours in to Morning, Evening, and Night\n",
    "adSmart.hour.replace([5, 6, 7, 8, 9, 10, 11, 12],'Morning', inplace = True)\n",
    "adSmart.hour.replace([13, 14, 15, 16, 17, 18],'Evening', inplace = True)\n",
    "adSmart.hour.replace([19, 20, 21, 22, 23, 0, 1, 2, 3, 4],'Night', inplace = True)\n",
    "\n",
    "# Rename the hour metric to timeOfDay\n",
    "adSmart.rename(columns= {'hour': 'timeOfDay'}, inplace = True)"
   ]
  },
  {
   "cell_type": "code",
   "execution_count": 23,
   "metadata": {},
   "outputs": [
    {
     "data": {
      "text/plain": [
       "Evening    3375\n",
       "Morning    2646\n",
       "Night      2056\n",
       "Name: timeOfDay, dtype: int64"
      ]
     },
     "execution_count": 23,
     "metadata": {},
     "output_type": "execute_result"
    }
   ],
   "source": [
    "# Review the category changes to the hour metric\n",
    "adSmart.timeOfDay.value_counts()"
   ]
  },
  {
   "cell_type": "markdown",
   "metadata": {},
   "source": [
    "To finish up the cleaning and exploration process the `date`, `device_make`, and `platform_os` columns will be dropped as these columns do not add any useful information. The length of the experiment was only 1 week long which is not long enough for the `date` to provide multiple entries for the same day of the week therefore the it cannot factor into the analysis. The `device_make` is far too specific while the `platform_os` metric is too imbalanced to provide any additional information for this analysis."
   ]
  },
  {
   "cell_type": "code",
   "execution_count": 24,
   "metadata": {},
   "outputs": [
    {
     "data": {
      "text/plain": [
       "Generic Smartphone    4743\n",
       "iPhone                 433\n",
       "Samsung SM-G960F       203\n",
       "Samsung SM-G973F       154\n",
       "Samsung SM-G950F       148\n",
       "                      ... \n",
       "Swift 2 Plus             1\n",
       "Samsung GT-I9195I        1\n",
       "Samsung SM-N910F         1\n",
       "Samsung SM-G570F         1\n",
       "Armor_3                  1\n",
       "Name: device_make, Length: 269, dtype: int64"
      ]
     },
     "execution_count": 24,
     "metadata": {},
     "output_type": "execute_result"
    }
   ],
   "source": [
    "# Display device_make categories and their counts\n",
    "adSmart.device_make.value_counts()"
   ]
  },
  {
   "cell_type": "code",
   "execution_count": 25,
   "metadata": {},
   "outputs": [
    {
     "data": {
      "text/plain": [
       "6    7648\n",
       "5     428\n",
       "7       1\n",
       "Name: platform_os, dtype: int64"
      ]
     },
     "execution_count": 25,
     "metadata": {},
     "output_type": "execute_result"
    }
   ],
   "source": [
    "# Display platform_os categories and their counts\n",
    "adSmart.platform_os.value_counts()"
   ]
  },
  {
   "cell_type": "code",
   "execution_count": 26,
   "metadata": {},
   "outputs": [
    {
     "data": {
      "text/plain": [
       "2020-07-03    2015\n",
       "2020-07-09    1208\n",
       "2020-07-08    1198\n",
       "2020-07-04     903\n",
       "2020-07-10     893\n",
       "2020-07-05     890\n",
       "2020-07-06     490\n",
       "2020-07-07     480\n",
       "Name: date, dtype: int64"
      ]
     },
     "execution_count": 26,
     "metadata": {},
     "output_type": "execute_result"
    }
   ],
   "source": [
    "# Display date categories and their counts\n",
    "adSmart.date.value_counts()"
   ]
  },
  {
   "cell_type": "code",
   "execution_count": 27,
   "metadata": {},
   "outputs": [],
   "source": [
    "# Drop 'date', 'device_make', and 'platform_os' columns from the dateset\n",
    "adSmart.drop(['date', 'device_make', 'platform_os'], axis =1, inplace = True)"
   ]
  },
  {
   "cell_type": "markdown",
   "metadata": {},
   "source": [
    "The dataset is now free of redundant and useless data and it also feature recategorized metrics that will create opportunities to test additional scenarios."
   ]
  },
  {
   "cell_type": "code",
   "execution_count": 58,
   "metadata": {},
   "outputs": [
    {
     "data": {
      "text/html": [
       "<div>\n",
       "<style scoped>\n",
       "    .dataframe tbody tr th:only-of-type {\n",
       "        vertical-align: middle;\n",
       "    }\n",
       "\n",
       "    .dataframe tbody tr th {\n",
       "        vertical-align: top;\n",
       "    }\n",
       "\n",
       "    .dataframe thead th {\n",
       "        text-align: right;\n",
       "    }\n",
       "</style>\n",
       "<table border=\"1\" class=\"dataframe\">\n",
       "  <thead>\n",
       "    <tr style=\"text-align: right;\">\n",
       "      <th></th>\n",
       "      <th>auction_id</th>\n",
       "      <th>experiment</th>\n",
       "      <th>timeOfDay</th>\n",
       "      <th>platform</th>\n",
       "      <th>questionaire</th>\n",
       "    </tr>\n",
       "  </thead>\n",
       "  <tbody>\n",
       "    <tr>\n",
       "      <th>0</th>\n",
       "      <td>0008ef63-77a7-448b-bd1e-075f42c55e39</td>\n",
       "      <td>exposed</td>\n",
       "      <td>Morning</td>\n",
       "      <td>Mobile</td>\n",
       "      <td>0</td>\n",
       "    </tr>\n",
       "    <tr>\n",
       "      <th>1</th>\n",
       "      <td>000eabc5-17ce-4137-8efe-44734d914446</td>\n",
       "      <td>exposed</td>\n",
       "      <td>Morning</td>\n",
       "      <td>Mobile</td>\n",
       "      <td>0</td>\n",
       "    </tr>\n",
       "    <tr>\n",
       "      <th>2</th>\n",
       "      <td>0016d14a-ae18-4a02-a204-6ba53b52f2ed</td>\n",
       "      <td>exposed</td>\n",
       "      <td>Night</td>\n",
       "      <td>Desktop</td>\n",
       "      <td>0</td>\n",
       "    </tr>\n",
       "    <tr>\n",
       "      <th>3</th>\n",
       "      <td>00187412-2932-4542-a8ef-3633901c98d9</td>\n",
       "      <td>control</td>\n",
       "      <td>Evening</td>\n",
       "      <td>Application</td>\n",
       "      <td>0</td>\n",
       "    </tr>\n",
       "    <tr>\n",
       "      <th>4</th>\n",
       "      <td>001a7785-d3fe-4e11-a344-c8735acacc2c</td>\n",
       "      <td>control</td>\n",
       "      <td>Evening</td>\n",
       "      <td>Mobile</td>\n",
       "      <td>0</td>\n",
       "    </tr>\n",
       "    <tr>\n",
       "      <th>...</th>\n",
       "      <td>...</td>\n",
       "      <td>...</td>\n",
       "      <td>...</td>\n",
       "      <td>...</td>\n",
       "      <td>...</td>\n",
       "    </tr>\n",
       "    <tr>\n",
       "      <th>8072</th>\n",
       "      <td>ffea24ec-cec1-43fb-b1d1-8f93828c2be2</td>\n",
       "      <td>exposed</td>\n",
       "      <td>Morning</td>\n",
       "      <td>Mobile</td>\n",
       "      <td>0</td>\n",
       "    </tr>\n",
       "    <tr>\n",
       "      <th>8073</th>\n",
       "      <td>ffea3210-2c3e-426f-a77d-0aa72e73b20f</td>\n",
       "      <td>control</td>\n",
       "      <td>Evening</td>\n",
       "      <td>Mobile</td>\n",
       "      <td>0</td>\n",
       "    </tr>\n",
       "    <tr>\n",
       "      <th>8074</th>\n",
       "      <td>ffeaa0f1-1d72-4ba9-afb4-314b3b00a7c7</td>\n",
       "      <td>control</td>\n",
       "      <td>Morning</td>\n",
       "      <td>Mobile</td>\n",
       "      <td>0</td>\n",
       "    </tr>\n",
       "    <tr>\n",
       "      <th>8075</th>\n",
       "      <td>ffeeed62-3f7c-4a6e-8ba7-95d303d40969</td>\n",
       "      <td>exposed</td>\n",
       "      <td>Evening</td>\n",
       "      <td>Mobile</td>\n",
       "      <td>0</td>\n",
       "    </tr>\n",
       "    <tr>\n",
       "      <th>8076</th>\n",
       "      <td>fffbb9ff-568a-41a5-a0c3-6866592f80d8</td>\n",
       "      <td>control</td>\n",
       "      <td>Evening</td>\n",
       "      <td>Application</td>\n",
       "      <td>0</td>\n",
       "    </tr>\n",
       "  </tbody>\n",
       "</table>\n",
       "<p>8077 rows × 5 columns</p>\n",
       "</div>"
      ],
      "text/plain": [
       "                                auction_id experiment timeOfDay     platform  \\\n",
       "0     0008ef63-77a7-448b-bd1e-075f42c55e39    exposed   Morning       Mobile   \n",
       "1     000eabc5-17ce-4137-8efe-44734d914446    exposed   Morning       Mobile   \n",
       "2     0016d14a-ae18-4a02-a204-6ba53b52f2ed    exposed     Night      Desktop   \n",
       "3     00187412-2932-4542-a8ef-3633901c98d9    control   Evening  Application   \n",
       "4     001a7785-d3fe-4e11-a344-c8735acacc2c    control   Evening       Mobile   \n",
       "...                                    ...        ...       ...          ...   \n",
       "8072  ffea24ec-cec1-43fb-b1d1-8f93828c2be2    exposed   Morning       Mobile   \n",
       "8073  ffea3210-2c3e-426f-a77d-0aa72e73b20f    control   Evening       Mobile   \n",
       "8074  ffeaa0f1-1d72-4ba9-afb4-314b3b00a7c7    control   Morning       Mobile   \n",
       "8075  ffeeed62-3f7c-4a6e-8ba7-95d303d40969    exposed   Evening       Mobile   \n",
       "8076  fffbb9ff-568a-41a5-a0c3-6866592f80d8    control   Evening  Application   \n",
       "\n",
       "      questionaire  \n",
       "0                0  \n",
       "1                0  \n",
       "2                0  \n",
       "3                0  \n",
       "4                0  \n",
       "...            ...  \n",
       "8072             0  \n",
       "8073             0  \n",
       "8074             0  \n",
       "8075             0  \n",
       "8076             0  \n",
       "\n",
       "[8077 rows x 5 columns]"
      ]
     },
     "execution_count": 58,
     "metadata": {},
     "output_type": "execute_result"
    }
   ],
   "source": [
    "# Display the reformatted and cleaned dataset\n",
    "adSmart"
   ]
  },
  {
   "cell_type": "markdown",
   "metadata": {},
   "source": [
    "#### Analysis"
   ]
  },
  {
   "cell_type": "markdown",
   "metadata": {},
   "source": [
    "Similar to the process in the first case study, the outcomes from the different scenarios will be compared numerically and then tested using a proportion z-test to determine whether the difference between the two outcomes is statistically significant.\n",
    "\n",
    "There will be 3 scenarios whose outcomes will be analyzed:\n",
    "* Control vs. Exposed experiment \n",
    "* Exposed users at three different time periods\n",
    "* Exposed users on three different platform types"
   ]
  },
  {
   "cell_type": "markdown",
   "metadata": {},
   "source": [
    "##### AdSmart vs. Generic Control Advertisements"
   ]
  },
  {
   "cell_type": "markdown",
   "metadata": {},
   "source": [
    "The first outcomes that will be compared are those between the users who were given the generic dummy ad and those who were given the AdSmart ad."
   ]
  },
  {
   "cell_type": "code",
   "execution_count": 29,
   "metadata": {},
   "outputs": [
    {
     "name": "stdout",
     "output_type": "stream",
     "text": [
      "The participation rate for the control vs the exposed is: 6.48% vs. 7.69%\n"
     ]
    }
   ],
   "source": [
    "# Counts of users who participated in the questionnaire for each experiment type\n",
    "controlCount = len(adSmart.loc[((adSmart['questionaire']) == 1) & (adSmart['experiment'] == 'control')])\n",
    "exposedCount = len(adSmart.loc[((adSmart['questionaire']) == 1) & (adSmart['experiment'] == 'exposed')])\n",
    "\n",
    "# Counts of the total users for each experiment type\n",
    "controlObs = len(adSmart.loc[(adSmart['experiment']) == 'control'])\n",
    "exposedObs = len(adSmart.loc[(adSmart['experiment']) == 'exposed'])\n",
    "\n",
    "# Calculating the participation rate of each experiment type\n",
    "rateControl = round((controlCount/controlObs)*100,2)\n",
    "rateExposed = round((exposedCount/exposedObs)*100,2)\n",
    "print(f\"The participation rate for the control vs the exposed is: {rateControl}% vs. {rateExposed}%\")"
   ]
  },
  {
   "cell_type": "code",
   "execution_count": 30,
   "metadata": {},
   "outputs": [
    {
     "name": "stdout",
     "output_type": "stream",
     "text": [
      "The p-value for the one day retention rate for the control and moved users is: 0.035005825968324515\n"
     ]
    }
   ],
   "source": [
    "# Proportion z-test for the control vs. exposed experiments\n",
    "partCount = [controlCount, exposedCount]\n",
    "partObs =  [controlObs, exposedObs]\n",
    "print(f\"The p-value for the one day retention rate for the control and moved users is: {proportions_ztest(partCount, partObs)[1]}\")"
   ]
  },
  {
   "cell_type": "markdown",
   "metadata": {},
   "source": [
    "There was an increase of 1.21% in the participation rate for those users who were presented the AdSmart ad for the questionnaire. With a p-value of 0.0350 we can reject the null hypothesis and therefore can conclude that there is a meaningful difference in the participation by the users in both scenarios. There is a 3.50% probability of observing our data given that the difference between the two scenarios is 0. \n",
    "\n",
    "Now that there is confirmation that the AdSmart ad had a significant positive increase in the participation rate of the questionnaire additional scenarios can be investigated."
   ]
  },
  {
   "cell_type": "markdown",
   "metadata": {},
   "source": [
    "##### Time of Day\n",
    "The following steps will determine whether or not we see a difference in the participation rate for users encountering the AdSmart ad at different times of the day."
   ]
  },
  {
   "cell_type": "code",
   "execution_count": 31,
   "metadata": {},
   "outputs": [
    {
     "name": "stdout",
     "output_type": "stream",
     "text": [
      "The participation rate for different time periods are:\n",
      " 7.07% for the morning\n",
      " 6.76% for the evening\n",
      " 7.64% for the night.\n"
     ]
    }
   ],
   "source": [
    "# Counts of users who participated in the questionnaire for each time period\n",
    "morningCount = len(adSmart.loc[((adSmart['questionaire']) == 1) & (adSmart['timeOfDay'] == 'Morning')])\n",
    "eveningCount = len(adSmart.loc[((adSmart['questionaire']) == 1) & (adSmart['timeOfDay'] == 'Evening')])\n",
    "nightCount = len(adSmart.loc[((adSmart['questionaire']) == 1) & (adSmart['timeOfDay'] == 'Night')])\n",
    "\n",
    "# Counts of the total users for each time period\n",
    "morningObs = len(adSmart.loc[(adSmart['timeOfDay']) == 'Morning'])\n",
    "eveningObs = len(adSmart.loc[(adSmart['timeOfDay']) == 'Evening'])\n",
    "nightObs = len(adSmart.loc[(adSmart['timeOfDay']) == 'Night'])\n",
    "\n",
    "# Calculating the participation rate of each time period\n",
    "rateMorning = round((morningCount/morningObs)*100,2)\n",
    "rateEvening = round((eveningCount/eveningObs)*100,2)\n",
    "rateNight = round((nightCount/nightObs)*100,2)\n",
    "print(f\"The participation rate for different time periods are:\\n {rateMorning}% for the morning\\n {rateEvening}% for the evening\\n {rateNight}% for the night.\")"
   ]
  },
  {
   "cell_type": "markdown",
   "metadata": {},
   "source": [
    "The difference in participation rate between the night and evening time periods is the largest at an increase of 0.88% therefore if the difference between those two is significant we can continue to the other possible pairs otherwise we can conclude that they too are not significant."
   ]
  },
  {
   "cell_type": "code",
   "execution_count": 32,
   "metadata": {},
   "outputs": [
    {
     "data": {
      "text/plain": [
       "(-1.2265307272737305, 0.21999901949494727)"
      ]
     },
     "execution_count": 32,
     "metadata": {},
     "output_type": "execute_result"
    }
   ],
   "source": [
    "# Proportion z-test for the evening vs. night time periods\n",
    "partENCount = [eveningCount, nightCount]\n",
    "partENObs =  [eveningObs, nightObs]\n",
    "proportions_ztest(partENCount, partENObs)"
   ]
  },
  {
   "cell_type": "markdown",
   "metadata": {},
   "source": [
    "With a p-value of 0.2200 we cannot reject the null hypothesis and therefore cannot conclude that there is a meaningful difference in the participation by the users in both time periods. There is a 22.00% probability of observing our data given that the difference between the two scenarios is 0."
   ]
  },
  {
   "cell_type": "markdown",
   "metadata": {},
   "source": [
    "##### Platform Type\n",
    "The next scenario to be tested is whether there was a difference in participation between users getting the AdSmart ad on different platform types."
   ]
  },
  {
   "cell_type": "code",
   "execution_count": 33,
   "metadata": {},
   "outputs": [
    {
     "name": "stdout",
     "output_type": "stream",
     "text": [
      "The participation rate for different times of the day is:\n",
      " 7.84% on Desktop\n",
      " 6.64% on Mobile\n",
      " 9.0% on Applications.\n"
     ]
    }
   ],
   "source": [
    "# Counts of users who participated in the questionnaire for each browser type\n",
    "desktopCount = len(adSmart.loc[((adSmart['questionaire']) == 1) & (adSmart['platform'] == 'Desktop')])\n",
    "mobileCount = len(adSmart.loc[((adSmart['questionaire']) == 1) & (adSmart['platform'] == 'Mobile')])\n",
    "appCount = len(adSmart.loc[((adSmart['questionaire']) == 1) & (adSmart['platform'] == 'Application')])\n",
    "\n",
    "# Counts of the total users for each browser type\n",
    "desktopObs = len(adSmart.loc[(adSmart['platform']) == 'Desktop'])\n",
    "mobileObs = len(adSmart.loc[(adSmart['platform']) == 'Mobile'])\n",
    "appObs = len(adSmart.loc[(adSmart['platform']) == 'Application'])\n",
    "\n",
    "# Calculating the participation rate of each browser type\n",
    "rateDesktop = round((desktopCount/desktopObs)*100,2)\n",
    "rateMobile = round((mobileCount/mobileObs)*100,2)\n",
    "rateApp = round((appCount/appObs)*100,2)\n",
    "print(f\"The participation rate for different times of the day is:\\n {rateDesktop}% on Desktop\\n {rateMobile}% on Mobile\\n {rateApp}% on Applications.\")"
   ]
  },
  {
   "cell_type": "markdown",
   "metadata": {},
   "source": [
    "The difference in participation rate between the Application and Mobile browser types is the largest therefore if the difference between those two is significant we can continue to the other pairs otherwise we can conclude that they too are not significant."
   ]
  },
  {
   "cell_type": "code",
   "execution_count": 34,
   "metadata": {},
   "outputs": [
    {
     "name": "stdout",
     "output_type": "stream",
     "text": [
      "The p-value between mobile and application exposed participation is: 0.015412436404582513\n"
     ]
    }
   ],
   "source": [
    "# Proportion z-test for the Mobile vs. Application browser types\n",
    "partMACount = [mobileCount, appCount]\n",
    "partMAObs =  [mobileObs, appObs]\n",
    "print(f\"The p-value between mobile and application exposed participation is: {proportions_ztest(partMACount, partMAObs)[1]}\")"
   ]
  },
  {
   "cell_type": "markdown",
   "metadata": {},
   "source": [
    "With a p-value of 0.0154 we can reject the null hypothesis and therefore can conclude that there is a meaningful difference in the participation by the users in both time periods. There is a 1.54% probability of observing our data given that the difference between the two scenarios is 0. "
   ]
  },
  {
   "cell_type": "code",
   "execution_count": 35,
   "metadata": {},
   "outputs": [
    {
     "name": "stdout",
     "output_type": "stream",
     "text": [
      "The p-value between desktop and application exposed participation is: 0.3422513590998233\n"
     ]
    }
   ],
   "source": [
    "# Proportion z-test for the Desktop vs. Application browser types\n",
    "partDACount = [desktopCount, appCount]\n",
    "partDAObs =  [desktopObs, appObs]\n",
    "print(f\"The p-value between desktop and application exposed participation is: {proportions_ztest(partDACount, partDAObs)[1]}\")"
   ]
  },
  {
   "cell_type": "markdown",
   "metadata": {},
   "source": [
    "With a p-value of 0.3423 we cannot reject the null hypothesis and therefore cannot conclude that there is a meaningful difference in the participation by the users in both time periods. There is a 34.23% probability of observing our data given that the difference between the two scenarios is 0. "
   ]
  },
  {
   "cell_type": "code",
   "execution_count": 36,
   "metadata": {},
   "outputs": [
    {
     "name": "stdout",
     "output_type": "stream",
     "text": [
      "The p-value between desktop and mobile exposed participation is: 0.10201238471502544\n"
     ]
    }
   ],
   "source": [
    "# Proportion z-test for the Desktop vs. Mobile browser types\n",
    "partDMCount = [desktopCount, mobileCount]\n",
    "partDMObs =  [desktopObs, mobileObs]\n",
    "print(f\"The p-value between desktop and mobile exposed participation is: {proportions_ztest(partDMCount, partDMObs)[1]}\")"
   ]
  },
  {
   "cell_type": "markdown",
   "metadata": {},
   "source": [
    "With a p-value of 0.1020 we cannot reject the null hypothesis and therefore cannot conclude that there is a meaningful difference in the participation by the users in both time periods. There is a 10.20% probability of observing our data given that the difference between the two scenarios is 0. "
   ]
  },
  {
   "cell_type": "markdown",
   "metadata": {},
   "source": [
    "#### Conclusions\n",
    "\n",
    "There was a 1.21% increase in the participation rate by the users who were presented the AdSmart ad versus those in the control group. Through a proportional z-test it was determined that the difference between the two scenarios <font color=green>was statistically different therefore we can say that there was a significant increase in the participation rate when users were presented the AdSmart ad.</font>\n",
    "\n",
    "With the positive influence of the AdSmart ad confirmed we could dig a little deeper and test whether there was a difference in participation based on the time of day or browser used to interact with the ad.\n",
    "\n",
    "There was a 0.88% increase in the participation rate by the users who were presented the AdSmart ad during the night compared to those who were presented the ad in the evening. Through a proportional z-test it was determined that the difference between the two scenarios <font color=red>was not statistically different therefore we cannot say that there was a significant increase in the participation rate based on the time of day it was viewed.</font>\n",
    "\n",
    "Finally, there was a 2.36% increase in the participation rate by the users who were presented the AdSmart ad in an application compared to those who were presented the ad on mobile. Through a proportional z-test it was determined that the difference between the two scenarios <font color=green>was statistically different therefore we can say that there was a significant increase in the participation rate between users on those two platforms.</font> The differences between all other platform type pairs were not determined to be significant.\n",
    "\n",
    "Based on the results of this report, it would be suggested that the AdSmart ad be implemented for all users. It is also likely that there would be an increase in participation if resources were focused on ads in application platforms over those on mobile platforms.\n",
    "***\n",
    "***"
   ]
  },
  {
   "cell_type": "markdown",
   "metadata": {},
   "source": [
    "## Final Thoughts\n",
    "Determining whether or not there is a numerical difference between the outcomes of two scenarios is not a difficult thing to calculate. You simply subtract the results or rates of one scenario from the another. The difficult part is parsing out which outcomes could have occurred on their own had no changes been made at all. Randomness will always be present when taking samples for analysis and it should be taken into account when using data to make decisions regarding any change to a system or product. When making even relatively small changes, such as the positioning or size of an ad, statistical methods must be used to verify that the differences in the scenario outcomes was not due to the randomness that is ever present in data analysis. The application of A/B testing will provide confidence in the results of an experiment and allow those changes to be applied without hesitation or worry that they are not truly significant."
   ]
  }
 ],
 "metadata": {
  "kernelspec": {
   "display_name": "Python 3",
   "language": "python",
   "name": "python3"
  },
  "language_info": {
   "codemirror_mode": {
    "name": "ipython",
    "version": 3
   },
   "file_extension": ".py",
   "mimetype": "text/x-python",
   "name": "python",
   "nbconvert_exporter": "python",
   "pygments_lexer": "ipython3",
   "version": "3.8.3"
  }
 },
 "nbformat": 4,
 "nbformat_minor": 4
}
